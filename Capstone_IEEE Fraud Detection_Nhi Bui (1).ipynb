{
 "cells": [
  {
   "cell_type": "markdown",
   "metadata": {},
   "source": [
    "# IEEE Fraud Detection"
   ]
  },
  {
   "cell_type": "markdown",
   "metadata": {},
   "source": [
    "# Content :\n",
    "* Data exploration:\n",
    " + Missing Data.( Solved by drop missing column and replace with -999 value)\n",
    " + Imbalanced target data.(Solved by: Undersampling/Oversampling)\n",
    "* Plots : \n",
    " + Distribution plots\n",
    " + Count plots\n",
    " + Unique values\n",
    " + Groups\n",
    "* Memory reduction\n",
    "\n",
    "* Models:\n",
    " + Logistic regression\n",
    " + Neural Network and improved versions of NNR( L1,L2, Regulaziation, normalization, add momentum, weighted class...)"
   ]
  },
  {
   "cell_type": "markdown",
   "metadata": {},
   "source": [
    "* Data exploration:Train and test are Time series split. Therefore, the train and test data is not duplicated."
   ]
  },
  {
   "cell_type": "markdown",
   "metadata": {},
   "source": [
    "# Transaction Table:"
   ]
  },
  {
   "cell_type": "raw",
   "metadata": {},
   "source": [
    "TransactionDT: timedelta from a given reference datetime (not an actual timestamp)\n",
    "TransactionAMT: transaction payment amount in USD\n",
    "ProductCD: product code, the product for each transaction\n",
    "card1 - card6: payment card information, such as card type, card category, issue bank, country, etc.\n",
    "addr: address\n",
    "dist: distance\n",
    "P_ and (R__) emaildomain: purchaser and recipient email domain\n",
    "C1-C14: counting, such as how many addresses are found to be associated with the payment card, etc. The actual meaning is masked.\n",
    "D1-D15: timedelta, such as days between previous transaction, etc.\n",
    "M1-M9: match, such as names on card and address, etc.\n",
    "Vxxx: Vesta engineered rich features, including ranking, counting, and other entity relations."
   ]
  },
  {
   "cell_type": "markdown",
   "metadata": {},
   "source": [
    "# Identity Table:"
   ]
  },
  {
   "cell_type": "raw",
   "metadata": {},
   "source": [
    "Variables in this table are identity information – network connection information (IP, ISP, Proxy, etc) and digital signature (UA/browser/os/version, etc) associated with transactions.\n",
    "They're collected by Vesta’s fraud protection system and digital security partners.\n",
    "(The field names are masked and pairwise dictionary will not be provided for privacy protection and contract agreement)"
   ]
  },
  {
   "cell_type": "markdown",
   "metadata": {},
   "source": [
    "# Importing Required Libraries"
   ]
  },
  {
   "cell_type": "code",
   "execution_count": 1,
   "metadata": {},
   "outputs": [
    {
     "name": "stdout",
     "output_type": "stream",
     "text": [
      "Requirement already satisfied: seaborn in c:\\users\\roger\\anaconda3\\envs\\tensorflow_env\\lib\\site-packages (0.10.0)\n",
      "Requirement already satisfied: matplotlib>=2.1.2 in c:\\users\\roger\\anaconda3\\envs\\tensorflow_env\\lib\\site-packages (from seaborn) (3.2.1)\n",
      "Requirement already satisfied: pandas>=0.22.0 in c:\\users\\roger\\anaconda3\\envs\\tensorflow_env\\lib\\site-packages (from seaborn) (1.0.3)\n",
      "Requirement already satisfied: scipy>=1.0.1 in c:\\users\\roger\\anaconda3\\envs\\tensorflow_env\\lib\\site-packages (from seaborn) (1.4.1)\n",
      "Requirement already satisfied: numpy>=1.13.3 in c:\\users\\roger\\anaconda3\\envs\\tensorflow_env\\lib\\site-packages (from seaborn) (1.18.1)\n",
      "Requirement already satisfied: python-dateutil>=2.1 in c:\\users\\roger\\anaconda3\\envs\\tensorflow_env\\lib\\site-packages (from matplotlib>=2.1.2->seaborn) (2.8.1)\n",
      "Requirement already satisfied: cycler>=0.10 in c:\\users\\roger\\anaconda3\\envs\\tensorflow_env\\lib\\site-packages (from matplotlib>=2.1.2->seaborn) (0.10.0)\n",
      "Requirement already satisfied: kiwisolver>=1.0.1 in c:\\users\\roger\\anaconda3\\envs\\tensorflow_env\\lib\\site-packages (from matplotlib>=2.1.2->seaborn) (1.1.0)\n",
      "Requirement already satisfied: pyparsing!=2.0.4,!=2.1.2,!=2.1.6,>=2.0.1 in c:\\users\\roger\\anaconda3\\envs\\tensorflow_env\\lib\\site-packages (from matplotlib>=2.1.2->seaborn) (2.4.6)\n",
      "Requirement already satisfied: pytz>=2017.2 in c:\\users\\roger\\anaconda3\\envs\\tensorflow_env\\lib\\site-packages (from pandas>=0.22.0->seaborn) (2019.3)\n",
      "Requirement already satisfied: six>=1.5 in c:\\users\\roger\\anaconda3\\envs\\tensorflow_env\\lib\\site-packages (from python-dateutil>=2.1->matplotlib>=2.1.2->seaborn) (1.14.0)\n",
      "Requirement already satisfied: setuptools in c:\\users\\roger\\anaconda3\\envs\\tensorflow_env\\lib\\site-packages (from kiwisolver>=1.0.1->matplotlib>=2.1.2->seaborn) (46.1.3.post20200330)\n",
      "Requirement already satisfied: sklearn in c:\\users\\roger\\anaconda3\\envs\\tensorflow_env\\lib\\site-packages (0.0)\n",
      "Requirement already satisfied: scikit-learn in c:\\users\\roger\\anaconda3\\envs\\tensorflow_env\\lib\\site-packages (from sklearn) (0.22.2.post1)\n",
      "Requirement already satisfied: joblib>=0.11 in c:\\users\\roger\\anaconda3\\envs\\tensorflow_env\\lib\\site-packages (from scikit-learn->sklearn) (0.14.1)\n",
      "Requirement already satisfied: numpy>=1.11.0 in c:\\users\\roger\\anaconda3\\envs\\tensorflow_env\\lib\\site-packages (from scikit-learn->sklearn) (1.18.1)\n",
      "Requirement already satisfied: scipy>=0.17.0 in c:\\users\\roger\\anaconda3\\envs\\tensorflow_env\\lib\\site-packages (from scikit-learn->sklearn) (1.4.1)\n",
      "Requirement already satisfied: matplotlib in c:\\users\\roger\\anaconda3\\envs\\tensorflow_env\\lib\\site-packages (3.2.1)\n",
      "Requirement already satisfied: python-dateutil>=2.1 in c:\\users\\roger\\anaconda3\\envs\\tensorflow_env\\lib\\site-packages (from matplotlib) (2.8.1)\n",
      "Requirement already satisfied: pyparsing!=2.0.4,!=2.1.2,!=2.1.6,>=2.0.1 in c:\\users\\roger\\anaconda3\\envs\\tensorflow_env\\lib\\site-packages (from matplotlib) (2.4.6)\n",
      "Requirement already satisfied: kiwisolver>=1.0.1 in c:\\users\\roger\\anaconda3\\envs\\tensorflow_env\\lib\\site-packages (from matplotlib) (1.1.0)\n",
      "Requirement already satisfied: cycler>=0.10 in c:\\users\\roger\\anaconda3\\envs\\tensorflow_env\\lib\\site-packages (from matplotlib) (0.10.0)\n",
      "Requirement already satisfied: numpy>=1.11 in c:\\users\\roger\\anaconda3\\envs\\tensorflow_env\\lib\\site-packages (from matplotlib) (1.18.1)\n",
      "Requirement already satisfied: six>=1.5 in c:\\users\\roger\\anaconda3\\envs\\tensorflow_env\\lib\\site-packages (from python-dateutil>=2.1->matplotlib) (1.14.0)\n",
      "Requirement already satisfied: setuptools in c:\\users\\roger\\anaconda3\\envs\\tensorflow_env\\lib\\site-packages (from kiwisolver>=1.0.1->matplotlib) (46.1.3.post20200330)\n",
      "Requirement already satisfied: pandas in c:\\users\\roger\\anaconda3\\envs\\tensorflow_env\\lib\\site-packages (1.0.3)\n",
      "Requirement already satisfied: python-dateutil>=2.6.1 in c:\\users\\roger\\anaconda3\\envs\\tensorflow_env\\lib\\site-packages (from pandas) (2.8.1)\n",
      "Requirement already satisfied: numpy>=1.13.3 in c:\\users\\roger\\anaconda3\\envs\\tensorflow_env\\lib\\site-packages (from pandas) (1.18.1)\n",
      "Requirement already satisfied: pytz>=2017.2 in c:\\users\\roger\\anaconda3\\envs\\tensorflow_env\\lib\\site-packages (from pandas) (2019.3)\n",
      "Requirement already satisfied: six>=1.5 in c:\\users\\roger\\anaconda3\\envs\\tensorflow_env\\lib\\site-packages (from python-dateutil>=2.6.1->pandas) (1.14.0)\n",
      "Requirement already satisfied: numpy in c:\\users\\roger\\anaconda3\\envs\\tensorflow_env\\lib\\site-packages (1.18.1)\n",
      "Requirement already satisfied: nltk in c:\\users\\roger\\anaconda3\\envs\\tensorflow_env\\lib\\site-packages (3.4.5)\n",
      "Requirement already satisfied: six in c:\\users\\roger\\anaconda3\\envs\\tensorflow_env\\lib\\site-packages (from nltk) (1.14.0)\n",
      "Requirement already satisfied: keras in c:\\users\\roger\\anaconda3\\envs\\tensorflow_env\\lib\\site-packages (2.3.1)\n",
      "Requirement already satisfied: h5py in c:\\users\\roger\\anaconda3\\envs\\tensorflow_env\\lib\\site-packages (from keras) (2.10.0)\n",
      "Requirement already satisfied: keras-applications>=1.0.6 in c:\\users\\roger\\anaconda3\\envs\\tensorflow_env\\lib\\site-packages (from keras) (1.0.8)\n",
      "Requirement already satisfied: numpy>=1.9.1 in c:\\users\\roger\\anaconda3\\envs\\tensorflow_env\\lib\\site-packages (from keras) (1.18.1)\n",
      "Requirement already satisfied: pyyaml in c:\\users\\roger\\anaconda3\\envs\\tensorflow_env\\lib\\site-packages (from keras) (5.3.1)\n",
      "Requirement already satisfied: scipy>=0.14 in c:\\users\\roger\\anaconda3\\envs\\tensorflow_env\\lib\\site-packages (from keras) (1.4.1)\n",
      "Requirement already satisfied: keras-preprocessing>=1.0.5 in c:\\users\\roger\\anaconda3\\envs\\tensorflow_env\\lib\\site-packages (from keras) (1.1.0)\n",
      "Requirement already satisfied: six>=1.9.0 in c:\\users\\roger\\anaconda3\\envs\\tensorflow_env\\lib\\site-packages (from keras) (1.14.0)\n"
     ]
    },
    {
     "name": "stderr",
     "output_type": "stream",
     "text": [
      "Using TensorFlow backend.\n"
     ]
    },
    {
     "name": "stdout",
     "output_type": "stream",
     "text": [
      "Requirement already satisfied: imblearn in c:\\users\\roger\\anaconda3\\envs\\tensorflow_env\\lib\\site-packages (0.0)\n",
      "Requirement already satisfied: imbalanced-learn in c:\\users\\roger\\anaconda3\\envs\\tensorflow_env\\lib\\site-packages (from imblearn) (0.6.2)\n",
      "Requirement already satisfied: numpy>=1.11 in c:\\users\\roger\\anaconda3\\envs\\tensorflow_env\\lib\\site-packages (from imbalanced-learn->imblearn) (1.18.1)\n",
      "Requirement already satisfied: scikit-learn>=0.22 in c:\\users\\roger\\anaconda3\\envs\\tensorflow_env\\lib\\site-packages (from imbalanced-learn->imblearn) (0.22.2.post1)\n",
      "Requirement already satisfied: scipy>=0.17 in c:\\users\\roger\\anaconda3\\envs\\tensorflow_env\\lib\\site-packages (from imbalanced-learn->imblearn) (1.4.1)\n",
      "Requirement already satisfied: joblib>=0.11 in c:\\users\\roger\\anaconda3\\envs\\tensorflow_env\\lib\\site-packages (from imbalanced-learn->imblearn) (0.14.1)\n"
     ]
    }
   ],
   "source": [
    "import sys\n",
    "!{sys.executable} -m pip install seaborn\n",
    "import seaborn\n",
    "!{sys.executable} -m pip install sklearn\n",
    "import sklearn\n",
    "!{sys.executable} -m pip install matplotlib\n",
    "import matplotlib\n",
    "!{sys.executable} -m pip install pandas\n",
    "import pandas\n",
    "!{sys.executable} -m pip install numpy\n",
    "import numpy\n",
    "!{sys.executable} -m pip install nltk\n",
    "import nltk\n",
    "!{sys.executable} -m pip install keras\n",
    "import keras\n",
    "!{sys.executable} -m pip install imblearn\n",
    "import imblearn"
   ]
  },
  {
   "cell_type": "code",
   "execution_count": 2,
   "metadata": {},
   "outputs": [],
   "source": [
    "import numpy as np \n",
    "import pandas as pd \n",
    "\n",
    "import seaborn as sns\n",
    "import matplotlib.pyplot as plt\n",
    "\n",
    "import tensorflow as tf\n",
    "import keras as keras\n",
    "\n",
    "from sklearn import preprocessing\n",
    "from sklearn.preprocessing import StandardScaler\n",
    "from sklearn.preprocessing import LabelEncoder, OneHotEncoder\n",
    "from sklearn.model_selection import train_test_split\n",
    "\n",
    "import gc\n",
    "gc.enable()"
   ]
  },
  {
   "cell_type": "code",
   "execution_count": 3,
   "metadata": {},
   "outputs": [],
   "source": [
    "import pandas as pd\n",
    "import numpy as np\n",
    "import pickle\n",
    "import matplotlib.pyplot as plt\n",
    "from scipy import stats\n",
    "import tensorflow as tf\n",
    "import seaborn as sns\n",
    "from pylab import rcParams\n",
    "from sklearn.model_selection import train_test_split\n",
    "from keras.models import Model, load_model\n",
    "from keras.layers import Input, Dense\n",
    "from keras.callbacks import ModelCheckpoint, TensorBoard\n",
    "from keras import regularizers\n",
    "from imblearn.under_sampling import RandomUnderSampler\n",
    "from imblearn.over_sampling import RandomOverSampler\n",
    "from sklearn.metrics import confusion_matrix\n",
    "from sklearn.metrics import roc_curve,roc_auc_score"
   ]
  },
  {
   "cell_type": "markdown",
   "metadata": {},
   "source": [
    "# Importing Data and merging"
   ]
  },
  {
   "cell_type": "markdown",
   "metadata": {},
   "source": [
    "There are 4 files in the data: train_transaction,test_trainsaction, train_identity and test_identity. The data is broken into transaction and identity files which is joined by Transaction ID. Let's take a look about the distribution of those file. Wherether the data is collasp or not."
   ]
  },
  {
   "cell_type": "code",
   "execution_count": 4,
   "metadata": {},
   "outputs": [
    {
     "name": "stdout",
     "output_type": "stream",
     "text": [
      "train_transaction shape is (590540, 393)\n",
      "test_transaction shape is (506691, 392)\n",
      "train_identity shape is (144233, 40)\n",
      "test_identity shape is (141907, 40)\n"
     ]
    }
   ],
   "source": [
    "\n",
    "train_transaction = pd.read_csv(r\"train_transaction.csv\", index_col='TransactionID')\n",
    "test_transaction = pd.read_csv(r\"test_transaction.csv\", index_col='TransactionID')\n",
    "\n",
    "train_identity = pd.read_csv(r\"train_identity.csv\", index_col='TransactionID')\n",
    "test_identity = pd.read_csv(r\"test_identity.csv\", index_col='TransactionID')\n",
    "\n",
    "print('train_transaction shape is {}'.format(train_transaction.shape))\n",
    "print('test_transaction shape is {}'.format(test_transaction.shape))\n",
    "print('train_identity shape is {}'.format(train_identity.shape))\n",
    "print('test_identity shape is {}'.format(test_identity.shape))"
   ]
  },
  {
   "cell_type": "code",
   "execution_count": 5,
   "metadata": {},
   "outputs": [
    {
     "data": {
      "text/html": [
       "<div>\n",
       "<style scoped>\n",
       "    .dataframe tbody tr th:only-of-type {\n",
       "        vertical-align: middle;\n",
       "    }\n",
       "\n",
       "    .dataframe tbody tr th {\n",
       "        vertical-align: top;\n",
       "    }\n",
       "\n",
       "    .dataframe thead th {\n",
       "        text-align: right;\n",
       "    }\n",
       "</style>\n",
       "<table border=\"1\" class=\"dataframe\">\n",
       "  <thead>\n",
       "    <tr style=\"text-align: right;\">\n",
       "      <th></th>\n",
       "      <th>isFraud</th>\n",
       "      <th>TransactionDT</th>\n",
       "      <th>TransactionAmt</th>\n",
       "      <th>ProductCD</th>\n",
       "      <th>card1</th>\n",
       "      <th>card2</th>\n",
       "      <th>card3</th>\n",
       "      <th>card4</th>\n",
       "      <th>card5</th>\n",
       "      <th>card6</th>\n",
       "      <th>...</th>\n",
       "      <th>V330</th>\n",
       "      <th>V331</th>\n",
       "      <th>V332</th>\n",
       "      <th>V333</th>\n",
       "      <th>V334</th>\n",
       "      <th>V335</th>\n",
       "      <th>V336</th>\n",
       "      <th>V337</th>\n",
       "      <th>V338</th>\n",
       "      <th>V339</th>\n",
       "    </tr>\n",
       "    <tr>\n",
       "      <th>TransactionID</th>\n",
       "      <th></th>\n",
       "      <th></th>\n",
       "      <th></th>\n",
       "      <th></th>\n",
       "      <th></th>\n",
       "      <th></th>\n",
       "      <th></th>\n",
       "      <th></th>\n",
       "      <th></th>\n",
       "      <th></th>\n",
       "      <th></th>\n",
       "      <th></th>\n",
       "      <th></th>\n",
       "      <th></th>\n",
       "      <th></th>\n",
       "      <th></th>\n",
       "      <th></th>\n",
       "      <th></th>\n",
       "      <th></th>\n",
       "      <th></th>\n",
       "      <th></th>\n",
       "    </tr>\n",
       "  </thead>\n",
       "  <tbody>\n",
       "    <tr>\n",
       "      <th>2987000</th>\n",
       "      <td>0</td>\n",
       "      <td>86400</td>\n",
       "      <td>68.5</td>\n",
       "      <td>W</td>\n",
       "      <td>13926</td>\n",
       "      <td>NaN</td>\n",
       "      <td>150.0</td>\n",
       "      <td>discover</td>\n",
       "      <td>142.0</td>\n",
       "      <td>credit</td>\n",
       "      <td>...</td>\n",
       "      <td>NaN</td>\n",
       "      <td>NaN</td>\n",
       "      <td>NaN</td>\n",
       "      <td>NaN</td>\n",
       "      <td>NaN</td>\n",
       "      <td>NaN</td>\n",
       "      <td>NaN</td>\n",
       "      <td>NaN</td>\n",
       "      <td>NaN</td>\n",
       "      <td>NaN</td>\n",
       "    </tr>\n",
       "    <tr>\n",
       "      <th>2987001</th>\n",
       "      <td>0</td>\n",
       "      <td>86401</td>\n",
       "      <td>29.0</td>\n",
       "      <td>W</td>\n",
       "      <td>2755</td>\n",
       "      <td>404.0</td>\n",
       "      <td>150.0</td>\n",
       "      <td>mastercard</td>\n",
       "      <td>102.0</td>\n",
       "      <td>credit</td>\n",
       "      <td>...</td>\n",
       "      <td>NaN</td>\n",
       "      <td>NaN</td>\n",
       "      <td>NaN</td>\n",
       "      <td>NaN</td>\n",
       "      <td>NaN</td>\n",
       "      <td>NaN</td>\n",
       "      <td>NaN</td>\n",
       "      <td>NaN</td>\n",
       "      <td>NaN</td>\n",
       "      <td>NaN</td>\n",
       "    </tr>\n",
       "    <tr>\n",
       "      <th>2987002</th>\n",
       "      <td>0</td>\n",
       "      <td>86469</td>\n",
       "      <td>59.0</td>\n",
       "      <td>W</td>\n",
       "      <td>4663</td>\n",
       "      <td>490.0</td>\n",
       "      <td>150.0</td>\n",
       "      <td>visa</td>\n",
       "      <td>166.0</td>\n",
       "      <td>debit</td>\n",
       "      <td>...</td>\n",
       "      <td>NaN</td>\n",
       "      <td>NaN</td>\n",
       "      <td>NaN</td>\n",
       "      <td>NaN</td>\n",
       "      <td>NaN</td>\n",
       "      <td>NaN</td>\n",
       "      <td>NaN</td>\n",
       "      <td>NaN</td>\n",
       "      <td>NaN</td>\n",
       "      <td>NaN</td>\n",
       "    </tr>\n",
       "    <tr>\n",
       "      <th>2987003</th>\n",
       "      <td>0</td>\n",
       "      <td>86499</td>\n",
       "      <td>50.0</td>\n",
       "      <td>W</td>\n",
       "      <td>18132</td>\n",
       "      <td>567.0</td>\n",
       "      <td>150.0</td>\n",
       "      <td>mastercard</td>\n",
       "      <td>117.0</td>\n",
       "      <td>debit</td>\n",
       "      <td>...</td>\n",
       "      <td>NaN</td>\n",
       "      <td>NaN</td>\n",
       "      <td>NaN</td>\n",
       "      <td>NaN</td>\n",
       "      <td>NaN</td>\n",
       "      <td>NaN</td>\n",
       "      <td>NaN</td>\n",
       "      <td>NaN</td>\n",
       "      <td>NaN</td>\n",
       "      <td>NaN</td>\n",
       "    </tr>\n",
       "    <tr>\n",
       "      <th>2987004</th>\n",
       "      <td>0</td>\n",
       "      <td>86506</td>\n",
       "      <td>50.0</td>\n",
       "      <td>H</td>\n",
       "      <td>4497</td>\n",
       "      <td>514.0</td>\n",
       "      <td>150.0</td>\n",
       "      <td>mastercard</td>\n",
       "      <td>102.0</td>\n",
       "      <td>credit</td>\n",
       "      <td>...</td>\n",
       "      <td>0.0</td>\n",
       "      <td>0.0</td>\n",
       "      <td>0.0</td>\n",
       "      <td>0.0</td>\n",
       "      <td>0.0</td>\n",
       "      <td>0.0</td>\n",
       "      <td>0.0</td>\n",
       "      <td>0.0</td>\n",
       "      <td>0.0</td>\n",
       "      <td>0.0</td>\n",
       "    </tr>\n",
       "  </tbody>\n",
       "</table>\n",
       "<p>5 rows × 393 columns</p>\n",
       "</div>"
      ],
      "text/plain": [
       "               isFraud  TransactionDT  TransactionAmt ProductCD  card1  card2  \\\n",
       "TransactionID                                                                   \n",
       "2987000              0          86400            68.5         W  13926    NaN   \n",
       "2987001              0          86401            29.0         W   2755  404.0   \n",
       "2987002              0          86469            59.0         W   4663  490.0   \n",
       "2987003              0          86499            50.0         W  18132  567.0   \n",
       "2987004              0          86506            50.0         H   4497  514.0   \n",
       "\n",
       "               card3       card4  card5   card6  ...  V330  V331  V332  V333  \\\n",
       "TransactionID                                    ...                           \n",
       "2987000        150.0    discover  142.0  credit  ...   NaN   NaN   NaN   NaN   \n",
       "2987001        150.0  mastercard  102.0  credit  ...   NaN   NaN   NaN   NaN   \n",
       "2987002        150.0        visa  166.0   debit  ...   NaN   NaN   NaN   NaN   \n",
       "2987003        150.0  mastercard  117.0   debit  ...   NaN   NaN   NaN   NaN   \n",
       "2987004        150.0  mastercard  102.0  credit  ...   0.0   0.0   0.0   0.0   \n",
       "\n",
       "              V334 V335  V336  V337  V338  V339  \n",
       "TransactionID                                    \n",
       "2987000        NaN  NaN   NaN   NaN   NaN   NaN  \n",
       "2987001        NaN  NaN   NaN   NaN   NaN   NaN  \n",
       "2987002        NaN  NaN   NaN   NaN   NaN   NaN  \n",
       "2987003        NaN  NaN   NaN   NaN   NaN   NaN  \n",
       "2987004        0.0  0.0   0.0   0.0   0.0   0.0  \n",
       "\n",
       "[5 rows x 393 columns]"
      ]
     },
     "execution_count": 5,
     "metadata": {},
     "output_type": "execute_result"
    }
   ],
   "source": [
    "train_transaction.head()"
   ]
  },
  {
   "cell_type": "code",
   "execution_count": 6,
   "metadata": {},
   "outputs": [
    {
     "data": {
      "text/html": [
       "<div>\n",
       "<style scoped>\n",
       "    .dataframe tbody tr th:only-of-type {\n",
       "        vertical-align: middle;\n",
       "    }\n",
       "\n",
       "    .dataframe tbody tr th {\n",
       "        vertical-align: top;\n",
       "    }\n",
       "\n",
       "    .dataframe thead th {\n",
       "        text-align: right;\n",
       "    }\n",
       "</style>\n",
       "<table border=\"1\" class=\"dataframe\">\n",
       "  <thead>\n",
       "    <tr style=\"text-align: right;\">\n",
       "      <th></th>\n",
       "      <th>isFraud</th>\n",
       "      <th>TransactionDT</th>\n",
       "      <th>TransactionAmt</th>\n",
       "      <th>ProductCD</th>\n",
       "      <th>card1</th>\n",
       "      <th>card2</th>\n",
       "      <th>card3</th>\n",
       "      <th>card4</th>\n",
       "      <th>card5</th>\n",
       "      <th>card6</th>\n",
       "      <th>...</th>\n",
       "      <th>V330</th>\n",
       "      <th>V331</th>\n",
       "      <th>V332</th>\n",
       "      <th>V333</th>\n",
       "      <th>V334</th>\n",
       "      <th>V335</th>\n",
       "      <th>V336</th>\n",
       "      <th>V337</th>\n",
       "      <th>V338</th>\n",
       "      <th>V339</th>\n",
       "    </tr>\n",
       "    <tr>\n",
       "      <th>TransactionID</th>\n",
       "      <th></th>\n",
       "      <th></th>\n",
       "      <th></th>\n",
       "      <th></th>\n",
       "      <th></th>\n",
       "      <th></th>\n",
       "      <th></th>\n",
       "      <th></th>\n",
       "      <th></th>\n",
       "      <th></th>\n",
       "      <th></th>\n",
       "      <th></th>\n",
       "      <th></th>\n",
       "      <th></th>\n",
       "      <th></th>\n",
       "      <th></th>\n",
       "      <th></th>\n",
       "      <th></th>\n",
       "      <th></th>\n",
       "      <th></th>\n",
       "      <th></th>\n",
       "    </tr>\n",
       "  </thead>\n",
       "  <tbody>\n",
       "    <tr>\n",
       "      <th>2987000</th>\n",
       "      <td>0</td>\n",
       "      <td>86400</td>\n",
       "      <td>68.5</td>\n",
       "      <td>W</td>\n",
       "      <td>13926</td>\n",
       "      <td>NaN</td>\n",
       "      <td>150.0</td>\n",
       "      <td>discover</td>\n",
       "      <td>142.0</td>\n",
       "      <td>credit</td>\n",
       "      <td>...</td>\n",
       "      <td>NaN</td>\n",
       "      <td>NaN</td>\n",
       "      <td>NaN</td>\n",
       "      <td>NaN</td>\n",
       "      <td>NaN</td>\n",
       "      <td>NaN</td>\n",
       "      <td>NaN</td>\n",
       "      <td>NaN</td>\n",
       "      <td>NaN</td>\n",
       "      <td>NaN</td>\n",
       "    </tr>\n",
       "    <tr>\n",
       "      <th>2987001</th>\n",
       "      <td>0</td>\n",
       "      <td>86401</td>\n",
       "      <td>29.0</td>\n",
       "      <td>W</td>\n",
       "      <td>2755</td>\n",
       "      <td>404.0</td>\n",
       "      <td>150.0</td>\n",
       "      <td>mastercard</td>\n",
       "      <td>102.0</td>\n",
       "      <td>credit</td>\n",
       "      <td>...</td>\n",
       "      <td>NaN</td>\n",
       "      <td>NaN</td>\n",
       "      <td>NaN</td>\n",
       "      <td>NaN</td>\n",
       "      <td>NaN</td>\n",
       "      <td>NaN</td>\n",
       "      <td>NaN</td>\n",
       "      <td>NaN</td>\n",
       "      <td>NaN</td>\n",
       "      <td>NaN</td>\n",
       "    </tr>\n",
       "    <tr>\n",
       "      <th>2987002</th>\n",
       "      <td>0</td>\n",
       "      <td>86469</td>\n",
       "      <td>59.0</td>\n",
       "      <td>W</td>\n",
       "      <td>4663</td>\n",
       "      <td>490.0</td>\n",
       "      <td>150.0</td>\n",
       "      <td>visa</td>\n",
       "      <td>166.0</td>\n",
       "      <td>debit</td>\n",
       "      <td>...</td>\n",
       "      <td>NaN</td>\n",
       "      <td>NaN</td>\n",
       "      <td>NaN</td>\n",
       "      <td>NaN</td>\n",
       "      <td>NaN</td>\n",
       "      <td>NaN</td>\n",
       "      <td>NaN</td>\n",
       "      <td>NaN</td>\n",
       "      <td>NaN</td>\n",
       "      <td>NaN</td>\n",
       "    </tr>\n",
       "    <tr>\n",
       "      <th>2987003</th>\n",
       "      <td>0</td>\n",
       "      <td>86499</td>\n",
       "      <td>50.0</td>\n",
       "      <td>W</td>\n",
       "      <td>18132</td>\n",
       "      <td>567.0</td>\n",
       "      <td>150.0</td>\n",
       "      <td>mastercard</td>\n",
       "      <td>117.0</td>\n",
       "      <td>debit</td>\n",
       "      <td>...</td>\n",
       "      <td>NaN</td>\n",
       "      <td>NaN</td>\n",
       "      <td>NaN</td>\n",
       "      <td>NaN</td>\n",
       "      <td>NaN</td>\n",
       "      <td>NaN</td>\n",
       "      <td>NaN</td>\n",
       "      <td>NaN</td>\n",
       "      <td>NaN</td>\n",
       "      <td>NaN</td>\n",
       "    </tr>\n",
       "    <tr>\n",
       "      <th>2987004</th>\n",
       "      <td>0</td>\n",
       "      <td>86506</td>\n",
       "      <td>50.0</td>\n",
       "      <td>H</td>\n",
       "      <td>4497</td>\n",
       "      <td>514.0</td>\n",
       "      <td>150.0</td>\n",
       "      <td>mastercard</td>\n",
       "      <td>102.0</td>\n",
       "      <td>credit</td>\n",
       "      <td>...</td>\n",
       "      <td>0.0</td>\n",
       "      <td>0.0</td>\n",
       "      <td>0.0</td>\n",
       "      <td>0.0</td>\n",
       "      <td>0.0</td>\n",
       "      <td>0.0</td>\n",
       "      <td>0.0</td>\n",
       "      <td>0.0</td>\n",
       "      <td>0.0</td>\n",
       "      <td>0.0</td>\n",
       "    </tr>\n",
       "  </tbody>\n",
       "</table>\n",
       "<p>5 rows × 393 columns</p>\n",
       "</div>"
      ],
      "text/plain": [
       "               isFraud  TransactionDT  TransactionAmt ProductCD  card1  card2  \\\n",
       "TransactionID                                                                   \n",
       "2987000              0          86400            68.5         W  13926    NaN   \n",
       "2987001              0          86401            29.0         W   2755  404.0   \n",
       "2987002              0          86469            59.0         W   4663  490.0   \n",
       "2987003              0          86499            50.0         W  18132  567.0   \n",
       "2987004              0          86506            50.0         H   4497  514.0   \n",
       "\n",
       "               card3       card4  card5   card6  ...  V330  V331  V332  V333  \\\n",
       "TransactionID                                    ...                           \n",
       "2987000        150.0    discover  142.0  credit  ...   NaN   NaN   NaN   NaN   \n",
       "2987001        150.0  mastercard  102.0  credit  ...   NaN   NaN   NaN   NaN   \n",
       "2987002        150.0        visa  166.0   debit  ...   NaN   NaN   NaN   NaN   \n",
       "2987003        150.0  mastercard  117.0   debit  ...   NaN   NaN   NaN   NaN   \n",
       "2987004        150.0  mastercard  102.0  credit  ...   0.0   0.0   0.0   0.0   \n",
       "\n",
       "              V334 V335  V336  V337  V338  V339  \n",
       "TransactionID                                    \n",
       "2987000        NaN  NaN   NaN   NaN   NaN   NaN  \n",
       "2987001        NaN  NaN   NaN   NaN   NaN   NaN  \n",
       "2987002        NaN  NaN   NaN   NaN   NaN   NaN  \n",
       "2987003        NaN  NaN   NaN   NaN   NaN   NaN  \n",
       "2987004        0.0  0.0   0.0   0.0   0.0   0.0  \n",
       "\n",
       "[5 rows x 393 columns]"
      ]
     },
     "execution_count": 6,
     "metadata": {},
     "output_type": "execute_result"
    }
   ],
   "source": [
    "train_transaction.head()"
   ]
  },
  {
   "cell_type": "code",
   "execution_count": 7,
   "metadata": {},
   "outputs": [
    {
     "data": {
      "text/html": [
       "<div>\n",
       "<style scoped>\n",
       "    .dataframe tbody tr th:only-of-type {\n",
       "        vertical-align: middle;\n",
       "    }\n",
       "\n",
       "    .dataframe tbody tr th {\n",
       "        vertical-align: top;\n",
       "    }\n",
       "\n",
       "    .dataframe thead th {\n",
       "        text-align: right;\n",
       "    }\n",
       "</style>\n",
       "<table border=\"1\" class=\"dataframe\">\n",
       "  <thead>\n",
       "    <tr style=\"text-align: right;\">\n",
       "      <th></th>\n",
       "      <th>TransactionDT</th>\n",
       "      <th>TransactionAmt</th>\n",
       "      <th>ProductCD</th>\n",
       "      <th>card1</th>\n",
       "      <th>card2</th>\n",
       "      <th>card3</th>\n",
       "      <th>card4</th>\n",
       "      <th>card5</th>\n",
       "      <th>card6</th>\n",
       "      <th>addr1</th>\n",
       "      <th>...</th>\n",
       "      <th>V330</th>\n",
       "      <th>V331</th>\n",
       "      <th>V332</th>\n",
       "      <th>V333</th>\n",
       "      <th>V334</th>\n",
       "      <th>V335</th>\n",
       "      <th>V336</th>\n",
       "      <th>V337</th>\n",
       "      <th>V338</th>\n",
       "      <th>V339</th>\n",
       "    </tr>\n",
       "    <tr>\n",
       "      <th>TransactionID</th>\n",
       "      <th></th>\n",
       "      <th></th>\n",
       "      <th></th>\n",
       "      <th></th>\n",
       "      <th></th>\n",
       "      <th></th>\n",
       "      <th></th>\n",
       "      <th></th>\n",
       "      <th></th>\n",
       "      <th></th>\n",
       "      <th></th>\n",
       "      <th></th>\n",
       "      <th></th>\n",
       "      <th></th>\n",
       "      <th></th>\n",
       "      <th></th>\n",
       "      <th></th>\n",
       "      <th></th>\n",
       "      <th></th>\n",
       "      <th></th>\n",
       "      <th></th>\n",
       "    </tr>\n",
       "  </thead>\n",
       "  <tbody>\n",
       "    <tr>\n",
       "      <th>3663549</th>\n",
       "      <td>18403224</td>\n",
       "      <td>31.95</td>\n",
       "      <td>W</td>\n",
       "      <td>10409</td>\n",
       "      <td>111.0</td>\n",
       "      <td>150.0</td>\n",
       "      <td>visa</td>\n",
       "      <td>226.0</td>\n",
       "      <td>debit</td>\n",
       "      <td>170.0</td>\n",
       "      <td>...</td>\n",
       "      <td>NaN</td>\n",
       "      <td>NaN</td>\n",
       "      <td>NaN</td>\n",
       "      <td>NaN</td>\n",
       "      <td>NaN</td>\n",
       "      <td>NaN</td>\n",
       "      <td>NaN</td>\n",
       "      <td>NaN</td>\n",
       "      <td>NaN</td>\n",
       "      <td>NaN</td>\n",
       "    </tr>\n",
       "    <tr>\n",
       "      <th>3663550</th>\n",
       "      <td>18403263</td>\n",
       "      <td>49.00</td>\n",
       "      <td>W</td>\n",
       "      <td>4272</td>\n",
       "      <td>111.0</td>\n",
       "      <td>150.0</td>\n",
       "      <td>visa</td>\n",
       "      <td>226.0</td>\n",
       "      <td>debit</td>\n",
       "      <td>299.0</td>\n",
       "      <td>...</td>\n",
       "      <td>NaN</td>\n",
       "      <td>NaN</td>\n",
       "      <td>NaN</td>\n",
       "      <td>NaN</td>\n",
       "      <td>NaN</td>\n",
       "      <td>NaN</td>\n",
       "      <td>NaN</td>\n",
       "      <td>NaN</td>\n",
       "      <td>NaN</td>\n",
       "      <td>NaN</td>\n",
       "    </tr>\n",
       "    <tr>\n",
       "      <th>3663551</th>\n",
       "      <td>18403310</td>\n",
       "      <td>171.00</td>\n",
       "      <td>W</td>\n",
       "      <td>4476</td>\n",
       "      <td>574.0</td>\n",
       "      <td>150.0</td>\n",
       "      <td>visa</td>\n",
       "      <td>226.0</td>\n",
       "      <td>debit</td>\n",
       "      <td>472.0</td>\n",
       "      <td>...</td>\n",
       "      <td>NaN</td>\n",
       "      <td>NaN</td>\n",
       "      <td>NaN</td>\n",
       "      <td>NaN</td>\n",
       "      <td>NaN</td>\n",
       "      <td>NaN</td>\n",
       "      <td>NaN</td>\n",
       "      <td>NaN</td>\n",
       "      <td>NaN</td>\n",
       "      <td>NaN</td>\n",
       "    </tr>\n",
       "    <tr>\n",
       "      <th>3663552</th>\n",
       "      <td>18403310</td>\n",
       "      <td>284.95</td>\n",
       "      <td>W</td>\n",
       "      <td>10989</td>\n",
       "      <td>360.0</td>\n",
       "      <td>150.0</td>\n",
       "      <td>visa</td>\n",
       "      <td>166.0</td>\n",
       "      <td>debit</td>\n",
       "      <td>205.0</td>\n",
       "      <td>...</td>\n",
       "      <td>NaN</td>\n",
       "      <td>NaN</td>\n",
       "      <td>NaN</td>\n",
       "      <td>NaN</td>\n",
       "      <td>NaN</td>\n",
       "      <td>NaN</td>\n",
       "      <td>NaN</td>\n",
       "      <td>NaN</td>\n",
       "      <td>NaN</td>\n",
       "      <td>NaN</td>\n",
       "    </tr>\n",
       "    <tr>\n",
       "      <th>3663553</th>\n",
       "      <td>18403317</td>\n",
       "      <td>67.95</td>\n",
       "      <td>W</td>\n",
       "      <td>18018</td>\n",
       "      <td>452.0</td>\n",
       "      <td>150.0</td>\n",
       "      <td>mastercard</td>\n",
       "      <td>117.0</td>\n",
       "      <td>debit</td>\n",
       "      <td>264.0</td>\n",
       "      <td>...</td>\n",
       "      <td>NaN</td>\n",
       "      <td>NaN</td>\n",
       "      <td>NaN</td>\n",
       "      <td>NaN</td>\n",
       "      <td>NaN</td>\n",
       "      <td>NaN</td>\n",
       "      <td>NaN</td>\n",
       "      <td>NaN</td>\n",
       "      <td>NaN</td>\n",
       "      <td>NaN</td>\n",
       "    </tr>\n",
       "  </tbody>\n",
       "</table>\n",
       "<p>5 rows × 392 columns</p>\n",
       "</div>"
      ],
      "text/plain": [
       "               TransactionDT  TransactionAmt ProductCD  card1  card2  card3  \\\n",
       "TransactionID                                                                 \n",
       "3663549             18403224           31.95         W  10409  111.0  150.0   \n",
       "3663550             18403263           49.00         W   4272  111.0  150.0   \n",
       "3663551             18403310          171.00         W   4476  574.0  150.0   \n",
       "3663552             18403310          284.95         W  10989  360.0  150.0   \n",
       "3663553             18403317           67.95         W  18018  452.0  150.0   \n",
       "\n",
       "                    card4  card5  card6  addr1  ...  V330  V331  V332 V333  \\\n",
       "TransactionID                                   ...                          \n",
       "3663549              visa  226.0  debit  170.0  ...   NaN   NaN   NaN  NaN   \n",
       "3663550              visa  226.0  debit  299.0  ...   NaN   NaN   NaN  NaN   \n",
       "3663551              visa  226.0  debit  472.0  ...   NaN   NaN   NaN  NaN   \n",
       "3663552              visa  166.0  debit  205.0  ...   NaN   NaN   NaN  NaN   \n",
       "3663553        mastercard  117.0  debit  264.0  ...   NaN   NaN   NaN  NaN   \n",
       "\n",
       "              V334  V335  V336  V337  V338  V339  \n",
       "TransactionID                                     \n",
       "3663549        NaN   NaN   NaN   NaN   NaN   NaN  \n",
       "3663550        NaN   NaN   NaN   NaN   NaN   NaN  \n",
       "3663551        NaN   NaN   NaN   NaN   NaN   NaN  \n",
       "3663552        NaN   NaN   NaN   NaN   NaN   NaN  \n",
       "3663553        NaN   NaN   NaN   NaN   NaN   NaN  \n",
       "\n",
       "[5 rows x 392 columns]"
      ]
     },
     "execution_count": 7,
     "metadata": {},
     "output_type": "execute_result"
    }
   ],
   "source": [
    "test_transaction.head()"
   ]
  },
  {
   "cell_type": "code",
   "execution_count": 8,
   "metadata": {},
   "outputs": [
    {
     "data": {
      "text/html": [
       "<div>\n",
       "<style scoped>\n",
       "    .dataframe tbody tr th:only-of-type {\n",
       "        vertical-align: middle;\n",
       "    }\n",
       "\n",
       "    .dataframe tbody tr th {\n",
       "        vertical-align: top;\n",
       "    }\n",
       "\n",
       "    .dataframe thead th {\n",
       "        text-align: right;\n",
       "    }\n",
       "</style>\n",
       "<table border=\"1\" class=\"dataframe\">\n",
       "  <thead>\n",
       "    <tr style=\"text-align: right;\">\n",
       "      <th></th>\n",
       "      <th>id_01</th>\n",
       "      <th>id_02</th>\n",
       "      <th>id_03</th>\n",
       "      <th>id_04</th>\n",
       "      <th>id_05</th>\n",
       "      <th>id_06</th>\n",
       "      <th>id_07</th>\n",
       "      <th>id_08</th>\n",
       "      <th>id_09</th>\n",
       "      <th>id_10</th>\n",
       "      <th>...</th>\n",
       "      <th>id_31</th>\n",
       "      <th>id_32</th>\n",
       "      <th>id_33</th>\n",
       "      <th>id_34</th>\n",
       "      <th>id_35</th>\n",
       "      <th>id_36</th>\n",
       "      <th>id_37</th>\n",
       "      <th>id_38</th>\n",
       "      <th>DeviceType</th>\n",
       "      <th>DeviceInfo</th>\n",
       "    </tr>\n",
       "    <tr>\n",
       "      <th>TransactionID</th>\n",
       "      <th></th>\n",
       "      <th></th>\n",
       "      <th></th>\n",
       "      <th></th>\n",
       "      <th></th>\n",
       "      <th></th>\n",
       "      <th></th>\n",
       "      <th></th>\n",
       "      <th></th>\n",
       "      <th></th>\n",
       "      <th></th>\n",
       "      <th></th>\n",
       "      <th></th>\n",
       "      <th></th>\n",
       "      <th></th>\n",
       "      <th></th>\n",
       "      <th></th>\n",
       "      <th></th>\n",
       "      <th></th>\n",
       "      <th></th>\n",
       "      <th></th>\n",
       "    </tr>\n",
       "  </thead>\n",
       "  <tbody>\n",
       "    <tr>\n",
       "      <th>2987004</th>\n",
       "      <td>0.0</td>\n",
       "      <td>70787.0</td>\n",
       "      <td>NaN</td>\n",
       "      <td>NaN</td>\n",
       "      <td>NaN</td>\n",
       "      <td>NaN</td>\n",
       "      <td>NaN</td>\n",
       "      <td>NaN</td>\n",
       "      <td>NaN</td>\n",
       "      <td>NaN</td>\n",
       "      <td>...</td>\n",
       "      <td>samsung browser 6.2</td>\n",
       "      <td>32.0</td>\n",
       "      <td>2220x1080</td>\n",
       "      <td>match_status:2</td>\n",
       "      <td>T</td>\n",
       "      <td>F</td>\n",
       "      <td>T</td>\n",
       "      <td>T</td>\n",
       "      <td>mobile</td>\n",
       "      <td>SAMSUNG SM-G892A Build/NRD90M</td>\n",
       "    </tr>\n",
       "    <tr>\n",
       "      <th>2987008</th>\n",
       "      <td>-5.0</td>\n",
       "      <td>98945.0</td>\n",
       "      <td>NaN</td>\n",
       "      <td>NaN</td>\n",
       "      <td>0.0</td>\n",
       "      <td>-5.0</td>\n",
       "      <td>NaN</td>\n",
       "      <td>NaN</td>\n",
       "      <td>NaN</td>\n",
       "      <td>NaN</td>\n",
       "      <td>...</td>\n",
       "      <td>mobile safari 11.0</td>\n",
       "      <td>32.0</td>\n",
       "      <td>1334x750</td>\n",
       "      <td>match_status:1</td>\n",
       "      <td>T</td>\n",
       "      <td>F</td>\n",
       "      <td>F</td>\n",
       "      <td>T</td>\n",
       "      <td>mobile</td>\n",
       "      <td>iOS Device</td>\n",
       "    </tr>\n",
       "    <tr>\n",
       "      <th>2987010</th>\n",
       "      <td>-5.0</td>\n",
       "      <td>191631.0</td>\n",
       "      <td>0.0</td>\n",
       "      <td>0.0</td>\n",
       "      <td>0.0</td>\n",
       "      <td>0.0</td>\n",
       "      <td>NaN</td>\n",
       "      <td>NaN</td>\n",
       "      <td>0.0</td>\n",
       "      <td>0.0</td>\n",
       "      <td>...</td>\n",
       "      <td>chrome 62.0</td>\n",
       "      <td>NaN</td>\n",
       "      <td>NaN</td>\n",
       "      <td>NaN</td>\n",
       "      <td>F</td>\n",
       "      <td>F</td>\n",
       "      <td>T</td>\n",
       "      <td>T</td>\n",
       "      <td>desktop</td>\n",
       "      <td>Windows</td>\n",
       "    </tr>\n",
       "    <tr>\n",
       "      <th>2987011</th>\n",
       "      <td>-5.0</td>\n",
       "      <td>221832.0</td>\n",
       "      <td>NaN</td>\n",
       "      <td>NaN</td>\n",
       "      <td>0.0</td>\n",
       "      <td>-6.0</td>\n",
       "      <td>NaN</td>\n",
       "      <td>NaN</td>\n",
       "      <td>NaN</td>\n",
       "      <td>NaN</td>\n",
       "      <td>...</td>\n",
       "      <td>chrome 62.0</td>\n",
       "      <td>NaN</td>\n",
       "      <td>NaN</td>\n",
       "      <td>NaN</td>\n",
       "      <td>F</td>\n",
       "      <td>F</td>\n",
       "      <td>T</td>\n",
       "      <td>T</td>\n",
       "      <td>desktop</td>\n",
       "      <td>NaN</td>\n",
       "    </tr>\n",
       "    <tr>\n",
       "      <th>2987016</th>\n",
       "      <td>0.0</td>\n",
       "      <td>7460.0</td>\n",
       "      <td>0.0</td>\n",
       "      <td>0.0</td>\n",
       "      <td>1.0</td>\n",
       "      <td>0.0</td>\n",
       "      <td>NaN</td>\n",
       "      <td>NaN</td>\n",
       "      <td>0.0</td>\n",
       "      <td>0.0</td>\n",
       "      <td>...</td>\n",
       "      <td>chrome 62.0</td>\n",
       "      <td>24.0</td>\n",
       "      <td>1280x800</td>\n",
       "      <td>match_status:2</td>\n",
       "      <td>T</td>\n",
       "      <td>F</td>\n",
       "      <td>T</td>\n",
       "      <td>T</td>\n",
       "      <td>desktop</td>\n",
       "      <td>MacOS</td>\n",
       "    </tr>\n",
       "  </tbody>\n",
       "</table>\n",
       "<p>5 rows × 40 columns</p>\n",
       "</div>"
      ],
      "text/plain": [
       "               id_01     id_02  id_03  id_04  id_05  id_06  id_07  id_08  \\\n",
       "TransactionID                                                              \n",
       "2987004          0.0   70787.0    NaN    NaN    NaN    NaN    NaN    NaN   \n",
       "2987008         -5.0   98945.0    NaN    NaN    0.0   -5.0    NaN    NaN   \n",
       "2987010         -5.0  191631.0    0.0    0.0    0.0    0.0    NaN    NaN   \n",
       "2987011         -5.0  221832.0    NaN    NaN    0.0   -6.0    NaN    NaN   \n",
       "2987016          0.0    7460.0    0.0    0.0    1.0    0.0    NaN    NaN   \n",
       "\n",
       "               id_09  id_10  ...                id_31 id_32      id_33  \\\n",
       "TransactionID                ...                                         \n",
       "2987004          NaN    NaN  ...  samsung browser 6.2  32.0  2220x1080   \n",
       "2987008          NaN    NaN  ...   mobile safari 11.0  32.0   1334x750   \n",
       "2987010          0.0    0.0  ...          chrome 62.0   NaN        NaN   \n",
       "2987011          NaN    NaN  ...          chrome 62.0   NaN        NaN   \n",
       "2987016          0.0    0.0  ...          chrome 62.0  24.0   1280x800   \n",
       "\n",
       "                        id_34 id_35 id_36  id_37  id_38  DeviceType  \\\n",
       "TransactionID                                                         \n",
       "2987004        match_status:2     T     F      T      T      mobile   \n",
       "2987008        match_status:1     T     F      F      T      mobile   \n",
       "2987010                   NaN     F     F      T      T     desktop   \n",
       "2987011                   NaN     F     F      T      T     desktop   \n",
       "2987016        match_status:2     T     F      T      T     desktop   \n",
       "\n",
       "                                  DeviceInfo  \n",
       "TransactionID                                 \n",
       "2987004        SAMSUNG SM-G892A Build/NRD90M  \n",
       "2987008                           iOS Device  \n",
       "2987010                              Windows  \n",
       "2987011                                  NaN  \n",
       "2987016                                MacOS  \n",
       "\n",
       "[5 rows x 40 columns]"
      ]
     },
     "execution_count": 8,
     "metadata": {},
     "output_type": "execute_result"
    }
   ],
   "source": [
    "train_identity.head()"
   ]
  },
  {
   "cell_type": "code",
   "execution_count": 9,
   "metadata": {},
   "outputs": [
    {
     "data": {
      "text/html": [
       "<div>\n",
       "<style scoped>\n",
       "    .dataframe tbody tr th:only-of-type {\n",
       "        vertical-align: middle;\n",
       "    }\n",
       "\n",
       "    .dataframe tbody tr th {\n",
       "        vertical-align: top;\n",
       "    }\n",
       "\n",
       "    .dataframe thead th {\n",
       "        text-align: right;\n",
       "    }\n",
       "</style>\n",
       "<table border=\"1\" class=\"dataframe\">\n",
       "  <thead>\n",
       "    <tr style=\"text-align: right;\">\n",
       "      <th></th>\n",
       "      <th>id_01</th>\n",
       "      <th>id_02</th>\n",
       "      <th>id_03</th>\n",
       "      <th>id_04</th>\n",
       "      <th>id_05</th>\n",
       "      <th>id_06</th>\n",
       "      <th>id_07</th>\n",
       "      <th>id_08</th>\n",
       "      <th>id_09</th>\n",
       "      <th>id_10</th>\n",
       "      <th>...</th>\n",
       "      <th>id_31</th>\n",
       "      <th>id_32</th>\n",
       "      <th>id_33</th>\n",
       "      <th>id_34</th>\n",
       "      <th>id_35</th>\n",
       "      <th>id_36</th>\n",
       "      <th>id_37</th>\n",
       "      <th>id_38</th>\n",
       "      <th>DeviceType</th>\n",
       "      <th>DeviceInfo</th>\n",
       "    </tr>\n",
       "    <tr>\n",
       "      <th>TransactionID</th>\n",
       "      <th></th>\n",
       "      <th></th>\n",
       "      <th></th>\n",
       "      <th></th>\n",
       "      <th></th>\n",
       "      <th></th>\n",
       "      <th></th>\n",
       "      <th></th>\n",
       "      <th></th>\n",
       "      <th></th>\n",
       "      <th></th>\n",
       "      <th></th>\n",
       "      <th></th>\n",
       "      <th></th>\n",
       "      <th></th>\n",
       "      <th></th>\n",
       "      <th></th>\n",
       "      <th></th>\n",
       "      <th></th>\n",
       "      <th></th>\n",
       "      <th></th>\n",
       "    </tr>\n",
       "  </thead>\n",
       "  <tbody>\n",
       "    <tr>\n",
       "      <th>3663586</th>\n",
       "      <td>-45.0</td>\n",
       "      <td>280290.0</td>\n",
       "      <td>NaN</td>\n",
       "      <td>NaN</td>\n",
       "      <td>0.0</td>\n",
       "      <td>0.0</td>\n",
       "      <td>NaN</td>\n",
       "      <td>NaN</td>\n",
       "      <td>NaN</td>\n",
       "      <td>NaN</td>\n",
       "      <td>...</td>\n",
       "      <td>chrome 67.0 for android</td>\n",
       "      <td>NaN</td>\n",
       "      <td>NaN</td>\n",
       "      <td>NaN</td>\n",
       "      <td>F</td>\n",
       "      <td>F</td>\n",
       "      <td>T</td>\n",
       "      <td>F</td>\n",
       "      <td>mobile</td>\n",
       "      <td>MYA-L13 Build/HUAWEIMYA-L13</td>\n",
       "    </tr>\n",
       "    <tr>\n",
       "      <th>3663588</th>\n",
       "      <td>0.0</td>\n",
       "      <td>3579.0</td>\n",
       "      <td>0.0</td>\n",
       "      <td>0.0</td>\n",
       "      <td>0.0</td>\n",
       "      <td>0.0</td>\n",
       "      <td>NaN</td>\n",
       "      <td>NaN</td>\n",
       "      <td>0.0</td>\n",
       "      <td>0.0</td>\n",
       "      <td>...</td>\n",
       "      <td>chrome 67.0 for android</td>\n",
       "      <td>24.0</td>\n",
       "      <td>1280x720</td>\n",
       "      <td>match_status:2</td>\n",
       "      <td>T</td>\n",
       "      <td>F</td>\n",
       "      <td>T</td>\n",
       "      <td>T</td>\n",
       "      <td>mobile</td>\n",
       "      <td>LGLS676 Build/MXB48T</td>\n",
       "    </tr>\n",
       "    <tr>\n",
       "      <th>3663597</th>\n",
       "      <td>-5.0</td>\n",
       "      <td>185210.0</td>\n",
       "      <td>NaN</td>\n",
       "      <td>NaN</td>\n",
       "      <td>1.0</td>\n",
       "      <td>0.0</td>\n",
       "      <td>NaN</td>\n",
       "      <td>NaN</td>\n",
       "      <td>NaN</td>\n",
       "      <td>NaN</td>\n",
       "      <td>...</td>\n",
       "      <td>ie 11.0 for tablet</td>\n",
       "      <td>NaN</td>\n",
       "      <td>NaN</td>\n",
       "      <td>NaN</td>\n",
       "      <td>F</td>\n",
       "      <td>T</td>\n",
       "      <td>T</td>\n",
       "      <td>F</td>\n",
       "      <td>desktop</td>\n",
       "      <td>Trident/7.0</td>\n",
       "    </tr>\n",
       "    <tr>\n",
       "      <th>3663601</th>\n",
       "      <td>-45.0</td>\n",
       "      <td>252944.0</td>\n",
       "      <td>0.0</td>\n",
       "      <td>0.0</td>\n",
       "      <td>0.0</td>\n",
       "      <td>0.0</td>\n",
       "      <td>NaN</td>\n",
       "      <td>NaN</td>\n",
       "      <td>0.0</td>\n",
       "      <td>0.0</td>\n",
       "      <td>...</td>\n",
       "      <td>chrome 67.0 for android</td>\n",
       "      <td>NaN</td>\n",
       "      <td>NaN</td>\n",
       "      <td>NaN</td>\n",
       "      <td>F</td>\n",
       "      <td>F</td>\n",
       "      <td>T</td>\n",
       "      <td>F</td>\n",
       "      <td>mobile</td>\n",
       "      <td>MYA-L13 Build/HUAWEIMYA-L13</td>\n",
       "    </tr>\n",
       "    <tr>\n",
       "      <th>3663602</th>\n",
       "      <td>-95.0</td>\n",
       "      <td>328680.0</td>\n",
       "      <td>NaN</td>\n",
       "      <td>NaN</td>\n",
       "      <td>7.0</td>\n",
       "      <td>-33.0</td>\n",
       "      <td>NaN</td>\n",
       "      <td>NaN</td>\n",
       "      <td>NaN</td>\n",
       "      <td>NaN</td>\n",
       "      <td>...</td>\n",
       "      <td>chrome 67.0 for android</td>\n",
       "      <td>NaN</td>\n",
       "      <td>NaN</td>\n",
       "      <td>NaN</td>\n",
       "      <td>F</td>\n",
       "      <td>F</td>\n",
       "      <td>T</td>\n",
       "      <td>F</td>\n",
       "      <td>mobile</td>\n",
       "      <td>SM-G9650 Build/R16NW</td>\n",
       "    </tr>\n",
       "  </tbody>\n",
       "</table>\n",
       "<p>5 rows × 40 columns</p>\n",
       "</div>"
      ],
      "text/plain": [
       "               id_01     id_02  id_03  id_04  id_05  id_06  id_07  id_08  \\\n",
       "TransactionID                                                              \n",
       "3663586        -45.0  280290.0    NaN    NaN    0.0    0.0    NaN    NaN   \n",
       "3663588          0.0    3579.0    0.0    0.0    0.0    0.0    NaN    NaN   \n",
       "3663597         -5.0  185210.0    NaN    NaN    1.0    0.0    NaN    NaN   \n",
       "3663601        -45.0  252944.0    0.0    0.0    0.0    0.0    NaN    NaN   \n",
       "3663602        -95.0  328680.0    NaN    NaN    7.0  -33.0    NaN    NaN   \n",
       "\n",
       "               id_09  id_10  ...                    id_31 id_32     id_33  \\\n",
       "TransactionID                ...                                            \n",
       "3663586          NaN    NaN  ...  chrome 67.0 for android   NaN       NaN   \n",
       "3663588          0.0    0.0  ...  chrome 67.0 for android  24.0  1280x720   \n",
       "3663597          NaN    NaN  ...       ie 11.0 for tablet   NaN       NaN   \n",
       "3663601          0.0    0.0  ...  chrome 67.0 for android   NaN       NaN   \n",
       "3663602          NaN    NaN  ...  chrome 67.0 for android   NaN       NaN   \n",
       "\n",
       "                        id_34 id_35 id_36  id_37  id_38  DeviceType  \\\n",
       "TransactionID                                                         \n",
       "3663586                   NaN     F     F      T      F      mobile   \n",
       "3663588        match_status:2     T     F      T      T      mobile   \n",
       "3663597                   NaN     F     T      T      F     desktop   \n",
       "3663601                   NaN     F     F      T      F      mobile   \n",
       "3663602                   NaN     F     F      T      F      mobile   \n",
       "\n",
       "                                DeviceInfo  \n",
       "TransactionID                               \n",
       "3663586        MYA-L13 Build/HUAWEIMYA-L13  \n",
       "3663588               LGLS676 Build/MXB48T  \n",
       "3663597                        Trident/7.0  \n",
       "3663601        MYA-L13 Build/HUAWEIMYA-L13  \n",
       "3663602               SM-G9650 Build/R16NW  \n",
       "\n",
       "[5 rows x 40 columns]"
      ]
     },
     "execution_count": 9,
     "metadata": {},
     "output_type": "execute_result"
    }
   ],
   "source": [
    "test_identity.head()"
   ]
  },
  {
   "cell_type": "markdown",
   "metadata": {},
   "source": [
    "# Train vs Test are Time Series Split\n",
    "* Here I want to evaluate whether the data in train and test files are duplicate/overlap or not and how they are distributed\n",
    "* Finding: As shown below, the train and test dataset are splited by time. The training data come from an earlier period of time while the latter is later period of time which is seperate by a slight gap."
   ]
  },
  {
   "cell_type": "code",
   "execution_count": 10,
   "metadata": {},
   "outputs": [
    {
     "data": {
      "image/png": "[encoded data removed]",
      "text/plain": [
       "<Figure size 1080x360 with 1 Axes>"
      ]
     },
     "metadata": {
      "needs_background": "light"
     },
     "output_type": "display_data"
    }
   ],
   "source": [
    "train_transaction['TransactionDT'].plot(kind='hist',\n",
    "                                        figsize=(15, 5),\n",
    "                                        label='train',\n",
    "                                        bins=50,\n",
    "                                        title='Train vs Test TransactionDT distribution')\n",
    "test_transaction['TransactionDT'].plot(kind='hist',\n",
    "                                       label='test',\n",
    "                                       bins=50)\n",
    "plt.legend()\n",
    "plt.show()"
   ]
  },
  {
   "cell_type": "code",
   "execution_count": 11,
   "metadata": {},
   "outputs": [],
   "source": [
    "train = train_transaction.merge(train_identity, how='left', left_index=True, right_index=True)\n",
    "test = test_transaction.merge(test_identity, how='left', left_index=True, right_index=True)"
   ]
  },
  {
   "cell_type": "markdown",
   "metadata": {},
   "source": [
    "# Data exploration"
   ]
  },
  {
   "cell_type": "markdown",
   "metadata": {},
   "source": [
    "# * By Fraud, By ProductCD, By DeviceType"
   ]
  },
  {
   "cell_type": "code",
   "execution_count": 12,
   "metadata": {},
   "outputs": [
    {
     "data": {
      "image/png": "[encoded data removed]",
      "text/plain": [
       "<Figure size 1080x576 with 3 Axes>"
      ]
     },
     "metadata": {
      "needs_background": "light"
     },
     "output_type": "display_data"
    }
   ],
   "source": [
    "f, axes = plt.subplots(1, 3, figsize=(15, 8))\n",
    "isFraud = sns.countplot(x='isFraud', data=train, ax=axes[0])\n",
    "ProductCD = sns.countplot(x='ProductCD', hue=\"isFraud\", data=train, ax=axes[1])\n",
    "DeviceType = sns.countplot(x='DeviceType', hue=\"isFraud\", data=train, ax=axes[2])\n",
    "plt.tight_layout()"
   ]
  },
  {
   "cell_type": "code",
   "execution_count": 13,
   "metadata": {},
   "outputs": [
    {
     "data": {
      "image/png": "[encoded data removed]",
      "text/plain": [
       "<Figure size 1080x576 with 2 Axes>"
      ]
     },
     "metadata": {
      "needs_background": "light"
     },
     "output_type": "display_data"
    }
   ],
   "source": [
    "f, axes = plt.subplots(1, 2, figsize=(15, 8))\n",
    "\n",
    "props = train.groupby(\"ProductCD\")['isFraud'].value_counts(normalize=True).unstack()\n",
    "p = props.plot(kind='bar', stacked='True', ax=axes[0])\n",
    "\n",
    "props = train.groupby(\"DeviceType\")['isFraud'].value_counts(normalize=True).unstack()\n",
    "p = props.plot(kind='bar', stacked='True', ax=axes[1])"
   ]
  },
  {
   "cell_type": "markdown",
   "metadata": {},
   "source": [
    "# Fraud Detections by OS"
   ]
  },
  {
   "cell_type": "code",
   "execution_count": 14,
   "metadata": {},
   "outputs": [
    {
     "data": {
      "image/png": "[encoded data removed]",
      "text/plain": [
       "<Figure size 1800x720 with 1 Axes>"
      ]
     },
     "metadata": {
      "needs_background": "light"
     },
     "output_type": "display_data"
    }
   ],
   "source": [
    "# Subset dataframe\n",
    "fraud = pd.DataFrame()\n",
    "is_fraud = train[train['isFraud']==1]\n",
    "fraud['DeviceCount'] = is_fraud.groupby(['DeviceInfo'])['DeviceInfo'].count()\n",
    "fraud['DeviceInfo'] = fraud.index\n",
    "\n",
    "# There are too many Devices, so we will subset the top 20\n",
    "group_top = fraud.sort_values(by='DeviceCount',ascending=False).head(20)\n",
    "\n",
    "plt.figure(figsize=(25, 10))\n",
    "sns.set(color_codes=True)\n",
    "sns.set(font_scale = 1.3)\n",
    "ax = sns.barplot(x=\"DeviceInfo\", y=\"DeviceCount\", data=group_top)\n",
    "\n",
    "font_size= {'size': 'x-large'}\n",
    "ax.set_title(\"Fraud transactions by OS\", **font_size)\n",
    "xt = plt.xticks(rotation=60)"
   ]
  },
  {
   "cell_type": "markdown",
   "metadata": {},
   "source": [
    "# # Fraud Detection by Card type"
   ]
  },
  {
   "cell_type": "code",
   "execution_count": 15,
   "metadata": {},
   "outputs": [
    {
     "data": {
      "image/png": "[encoded data removed]",
      "text/plain": [
       "<Figure size 1296x720 with 2 Axes>"
      ]
     },
     "metadata": {},
     "output_type": "display_data"
    }
   ],
   "source": [
    "f, axes = plt.subplots(1, 2, figsize=(18, 10))\n",
    "sns.set(color_codes=True)\n",
    "card4 = sns.countplot(x='card4', hue=\"isFraud\", data=train, ax=axes[0])\n",
    "card6 = sns.countplot(x='card6', hue=\"isFraud\", data=train, ax=axes[1])"
   ]
  },
  {
   "cell_type": "code",
   "execution_count": null,
   "metadata": {},
   "outputs": [],
   "source": []
  },
  {
   "cell_type": "markdown",
   "metadata": {},
   "source": [
    "# Data exploration\n",
    "1. Missing data\n",
    "2. Imbalance data"
   ]
  },
  {
   "cell_type": "code",
   "execution_count": 16,
   "metadata": {},
   "outputs": [
    {
     "data": {
      "text/html": [
       "<div>\n",
       "<style scoped>\n",
       "    .dataframe tbody tr th:only-of-type {\n",
       "        vertical-align: middle;\n",
       "    }\n",
       "\n",
       "    .dataframe tbody tr th {\n",
       "        vertical-align: top;\n",
       "    }\n",
       "\n",
       "    .dataframe thead th {\n",
       "        text-align: right;\n",
       "    }\n",
       "</style>\n",
       "<table border=\"1\" class=\"dataframe\">\n",
       "  <thead>\n",
       "    <tr style=\"text-align: right;\">\n",
       "      <th></th>\n",
       "      <th>isFraud</th>\n",
       "      <th>TransactionDT</th>\n",
       "      <th>TransactionAmt</th>\n",
       "      <th>ProductCD</th>\n",
       "      <th>card1</th>\n",
       "      <th>card2</th>\n",
       "      <th>card3</th>\n",
       "      <th>card4</th>\n",
       "      <th>card5</th>\n",
       "      <th>card6</th>\n",
       "      <th>...</th>\n",
       "      <th>id_31</th>\n",
       "      <th>id_32</th>\n",
       "      <th>id_33</th>\n",
       "      <th>id_34</th>\n",
       "      <th>id_35</th>\n",
       "      <th>id_36</th>\n",
       "      <th>id_37</th>\n",
       "      <th>id_38</th>\n",
       "      <th>DeviceType</th>\n",
       "      <th>DeviceInfo</th>\n",
       "    </tr>\n",
       "    <tr>\n",
       "      <th>TransactionID</th>\n",
       "      <th></th>\n",
       "      <th></th>\n",
       "      <th></th>\n",
       "      <th></th>\n",
       "      <th></th>\n",
       "      <th></th>\n",
       "      <th></th>\n",
       "      <th></th>\n",
       "      <th></th>\n",
       "      <th></th>\n",
       "      <th></th>\n",
       "      <th></th>\n",
       "      <th></th>\n",
       "      <th></th>\n",
       "      <th></th>\n",
       "      <th></th>\n",
       "      <th></th>\n",
       "      <th></th>\n",
       "      <th></th>\n",
       "      <th></th>\n",
       "      <th></th>\n",
       "    </tr>\n",
       "  </thead>\n",
       "  <tbody>\n",
       "    <tr>\n",
       "      <th>2987000</th>\n",
       "      <td>0</td>\n",
       "      <td>86400</td>\n",
       "      <td>68.5</td>\n",
       "      <td>W</td>\n",
       "      <td>13926</td>\n",
       "      <td>NaN</td>\n",
       "      <td>150.0</td>\n",
       "      <td>discover</td>\n",
       "      <td>142.0</td>\n",
       "      <td>credit</td>\n",
       "      <td>...</td>\n",
       "      <td>NaN</td>\n",
       "      <td>NaN</td>\n",
       "      <td>NaN</td>\n",
       "      <td>NaN</td>\n",
       "      <td>NaN</td>\n",
       "      <td>NaN</td>\n",
       "      <td>NaN</td>\n",
       "      <td>NaN</td>\n",
       "      <td>NaN</td>\n",
       "      <td>NaN</td>\n",
       "    </tr>\n",
       "    <tr>\n",
       "      <th>2987001</th>\n",
       "      <td>0</td>\n",
       "      <td>86401</td>\n",
       "      <td>29.0</td>\n",
       "      <td>W</td>\n",
       "      <td>2755</td>\n",
       "      <td>404.0</td>\n",
       "      <td>150.0</td>\n",
       "      <td>mastercard</td>\n",
       "      <td>102.0</td>\n",
       "      <td>credit</td>\n",
       "      <td>...</td>\n",
       "      <td>NaN</td>\n",
       "      <td>NaN</td>\n",
       "      <td>NaN</td>\n",
       "      <td>NaN</td>\n",
       "      <td>NaN</td>\n",
       "      <td>NaN</td>\n",
       "      <td>NaN</td>\n",
       "      <td>NaN</td>\n",
       "      <td>NaN</td>\n",
       "      <td>NaN</td>\n",
       "    </tr>\n",
       "    <tr>\n",
       "      <th>2987002</th>\n",
       "      <td>0</td>\n",
       "      <td>86469</td>\n",
       "      <td>59.0</td>\n",
       "      <td>W</td>\n",
       "      <td>4663</td>\n",
       "      <td>490.0</td>\n",
       "      <td>150.0</td>\n",
       "      <td>visa</td>\n",
       "      <td>166.0</td>\n",
       "      <td>debit</td>\n",
       "      <td>...</td>\n",
       "      <td>NaN</td>\n",
       "      <td>NaN</td>\n",
       "      <td>NaN</td>\n",
       "      <td>NaN</td>\n",
       "      <td>NaN</td>\n",
       "      <td>NaN</td>\n",
       "      <td>NaN</td>\n",
       "      <td>NaN</td>\n",
       "      <td>NaN</td>\n",
       "      <td>NaN</td>\n",
       "    </tr>\n",
       "    <tr>\n",
       "      <th>2987003</th>\n",
       "      <td>0</td>\n",
       "      <td>86499</td>\n",
       "      <td>50.0</td>\n",
       "      <td>W</td>\n",
       "      <td>18132</td>\n",
       "      <td>567.0</td>\n",
       "      <td>150.0</td>\n",
       "      <td>mastercard</td>\n",
       "      <td>117.0</td>\n",
       "      <td>debit</td>\n",
       "      <td>...</td>\n",
       "      <td>NaN</td>\n",
       "      <td>NaN</td>\n",
       "      <td>NaN</td>\n",
       "      <td>NaN</td>\n",
       "      <td>NaN</td>\n",
       "      <td>NaN</td>\n",
       "      <td>NaN</td>\n",
       "      <td>NaN</td>\n",
       "      <td>NaN</td>\n",
       "      <td>NaN</td>\n",
       "    </tr>\n",
       "    <tr>\n",
       "      <th>2987004</th>\n",
       "      <td>0</td>\n",
       "      <td>86506</td>\n",
       "      <td>50.0</td>\n",
       "      <td>H</td>\n",
       "      <td>4497</td>\n",
       "      <td>514.0</td>\n",
       "      <td>150.0</td>\n",
       "      <td>mastercard</td>\n",
       "      <td>102.0</td>\n",
       "      <td>credit</td>\n",
       "      <td>...</td>\n",
       "      <td>samsung browser 6.2</td>\n",
       "      <td>32.0</td>\n",
       "      <td>2220x1080</td>\n",
       "      <td>match_status:2</td>\n",
       "      <td>T</td>\n",
       "      <td>F</td>\n",
       "      <td>T</td>\n",
       "      <td>T</td>\n",
       "      <td>mobile</td>\n",
       "      <td>SAMSUNG SM-G892A Build/NRD90M</td>\n",
       "    </tr>\n",
       "  </tbody>\n",
       "</table>\n",
       "<p>5 rows × 433 columns</p>\n",
       "</div>"
      ],
      "text/plain": [
       "               isFraud  TransactionDT  TransactionAmt ProductCD  card1  card2  \\\n",
       "TransactionID                                                                   \n",
       "2987000              0          86400            68.5         W  13926    NaN   \n",
       "2987001              0          86401            29.0         W   2755  404.0   \n",
       "2987002              0          86469            59.0         W   4663  490.0   \n",
       "2987003              0          86499            50.0         W  18132  567.0   \n",
       "2987004              0          86506            50.0         H   4497  514.0   \n",
       "\n",
       "               card3       card4  card5   card6  ...                id_31  \\\n",
       "TransactionID                                    ...                        \n",
       "2987000        150.0    discover  142.0  credit  ...                  NaN   \n",
       "2987001        150.0  mastercard  102.0  credit  ...                  NaN   \n",
       "2987002        150.0        visa  166.0   debit  ...                  NaN   \n",
       "2987003        150.0  mastercard  117.0   debit  ...                  NaN   \n",
       "2987004        150.0  mastercard  102.0  credit  ...  samsung browser 6.2   \n",
       "\n",
       "               id_32      id_33           id_34 id_35 id_36  id_37  id_38  \\\n",
       "TransactionID                                                               \n",
       "2987000          NaN        NaN             NaN   NaN   NaN    NaN    NaN   \n",
       "2987001          NaN        NaN             NaN   NaN   NaN    NaN    NaN   \n",
       "2987002          NaN        NaN             NaN   NaN   NaN    NaN    NaN   \n",
       "2987003          NaN        NaN             NaN   NaN   NaN    NaN    NaN   \n",
       "2987004         32.0  2220x1080  match_status:2     T     F      T      T   \n",
       "\n",
       "               DeviceType                     DeviceInfo  \n",
       "TransactionID                                             \n",
       "2987000               NaN                            NaN  \n",
       "2987001               NaN                            NaN  \n",
       "2987002               NaN                            NaN  \n",
       "2987003               NaN                            NaN  \n",
       "2987004            mobile  SAMSUNG SM-G892A Build/NRD90M  \n",
       "\n",
       "[5 rows x 433 columns]"
      ]
     },
     "execution_count": 16,
     "metadata": {},
     "output_type": "execute_result"
    }
   ],
   "source": [
    "train.head()"
   ]
  },
  {
   "cell_type": "code",
   "execution_count": 17,
   "metadata": {},
   "outputs": [
    {
     "data": {
      "text/html": [
       "<div>\n",
       "<style scoped>\n",
       "    .dataframe tbody tr th:only-of-type {\n",
       "        vertical-align: middle;\n",
       "    }\n",
       "\n",
       "    .dataframe tbody tr th {\n",
       "        vertical-align: top;\n",
       "    }\n",
       "\n",
       "    .dataframe thead th {\n",
       "        text-align: right;\n",
       "    }\n",
       "</style>\n",
       "<table border=\"1\" class=\"dataframe\">\n",
       "  <thead>\n",
       "    <tr style=\"text-align: right;\">\n",
       "      <th></th>\n",
       "      <th>TransactionDT</th>\n",
       "      <th>TransactionAmt</th>\n",
       "      <th>ProductCD</th>\n",
       "      <th>card1</th>\n",
       "      <th>card2</th>\n",
       "      <th>card3</th>\n",
       "      <th>card4</th>\n",
       "      <th>card5</th>\n",
       "      <th>card6</th>\n",
       "      <th>addr1</th>\n",
       "      <th>...</th>\n",
       "      <th>id_31</th>\n",
       "      <th>id_32</th>\n",
       "      <th>id_33</th>\n",
       "      <th>id_34</th>\n",
       "      <th>id_35</th>\n",
       "      <th>id_36</th>\n",
       "      <th>id_37</th>\n",
       "      <th>id_38</th>\n",
       "      <th>DeviceType</th>\n",
       "      <th>DeviceInfo</th>\n",
       "    </tr>\n",
       "    <tr>\n",
       "      <th>TransactionID</th>\n",
       "      <th></th>\n",
       "      <th></th>\n",
       "      <th></th>\n",
       "      <th></th>\n",
       "      <th></th>\n",
       "      <th></th>\n",
       "      <th></th>\n",
       "      <th></th>\n",
       "      <th></th>\n",
       "      <th></th>\n",
       "      <th></th>\n",
       "      <th></th>\n",
       "      <th></th>\n",
       "      <th></th>\n",
       "      <th></th>\n",
       "      <th></th>\n",
       "      <th></th>\n",
       "      <th></th>\n",
       "      <th></th>\n",
       "      <th></th>\n",
       "      <th></th>\n",
       "    </tr>\n",
       "  </thead>\n",
       "  <tbody>\n",
       "    <tr>\n",
       "      <th>3663549</th>\n",
       "      <td>18403224</td>\n",
       "      <td>31.95</td>\n",
       "      <td>W</td>\n",
       "      <td>10409</td>\n",
       "      <td>111.0</td>\n",
       "      <td>150.0</td>\n",
       "      <td>visa</td>\n",
       "      <td>226.0</td>\n",
       "      <td>debit</td>\n",
       "      <td>170.0</td>\n",
       "      <td>...</td>\n",
       "      <td>NaN</td>\n",
       "      <td>NaN</td>\n",
       "      <td>NaN</td>\n",
       "      <td>NaN</td>\n",
       "      <td>NaN</td>\n",
       "      <td>NaN</td>\n",
       "      <td>NaN</td>\n",
       "      <td>NaN</td>\n",
       "      <td>NaN</td>\n",
       "      <td>NaN</td>\n",
       "    </tr>\n",
       "    <tr>\n",
       "      <th>3663550</th>\n",
       "      <td>18403263</td>\n",
       "      <td>49.00</td>\n",
       "      <td>W</td>\n",
       "      <td>4272</td>\n",
       "      <td>111.0</td>\n",
       "      <td>150.0</td>\n",
       "      <td>visa</td>\n",
       "      <td>226.0</td>\n",
       "      <td>debit</td>\n",
       "      <td>299.0</td>\n",
       "      <td>...</td>\n",
       "      <td>NaN</td>\n",
       "      <td>NaN</td>\n",
       "      <td>NaN</td>\n",
       "      <td>NaN</td>\n",
       "      <td>NaN</td>\n",
       "      <td>NaN</td>\n",
       "      <td>NaN</td>\n",
       "      <td>NaN</td>\n",
       "      <td>NaN</td>\n",
       "      <td>NaN</td>\n",
       "    </tr>\n",
       "    <tr>\n",
       "      <th>3663551</th>\n",
       "      <td>18403310</td>\n",
       "      <td>171.00</td>\n",
       "      <td>W</td>\n",
       "      <td>4476</td>\n",
       "      <td>574.0</td>\n",
       "      <td>150.0</td>\n",
       "      <td>visa</td>\n",
       "      <td>226.0</td>\n",
       "      <td>debit</td>\n",
       "      <td>472.0</td>\n",
       "      <td>...</td>\n",
       "      <td>NaN</td>\n",
       "      <td>NaN</td>\n",
       "      <td>NaN</td>\n",
       "      <td>NaN</td>\n",
       "      <td>NaN</td>\n",
       "      <td>NaN</td>\n",
       "      <td>NaN</td>\n",
       "      <td>NaN</td>\n",
       "      <td>NaN</td>\n",
       "      <td>NaN</td>\n",
       "    </tr>\n",
       "    <tr>\n",
       "      <th>3663552</th>\n",
       "      <td>18403310</td>\n",
       "      <td>284.95</td>\n",
       "      <td>W</td>\n",
       "      <td>10989</td>\n",
       "      <td>360.0</td>\n",
       "      <td>150.0</td>\n",
       "      <td>visa</td>\n",
       "      <td>166.0</td>\n",
       "      <td>debit</td>\n",
       "      <td>205.0</td>\n",
       "      <td>...</td>\n",
       "      <td>NaN</td>\n",
       "      <td>NaN</td>\n",
       "      <td>NaN</td>\n",
       "      <td>NaN</td>\n",
       "      <td>NaN</td>\n",
       "      <td>NaN</td>\n",
       "      <td>NaN</td>\n",
       "      <td>NaN</td>\n",
       "      <td>NaN</td>\n",
       "      <td>NaN</td>\n",
       "    </tr>\n",
       "    <tr>\n",
       "      <th>3663553</th>\n",
       "      <td>18403317</td>\n",
       "      <td>67.95</td>\n",
       "      <td>W</td>\n",
       "      <td>18018</td>\n",
       "      <td>452.0</td>\n",
       "      <td>150.0</td>\n",
       "      <td>mastercard</td>\n",
       "      <td>117.0</td>\n",
       "      <td>debit</td>\n",
       "      <td>264.0</td>\n",
       "      <td>...</td>\n",
       "      <td>NaN</td>\n",
       "      <td>NaN</td>\n",
       "      <td>NaN</td>\n",
       "      <td>NaN</td>\n",
       "      <td>NaN</td>\n",
       "      <td>NaN</td>\n",
       "      <td>NaN</td>\n",
       "      <td>NaN</td>\n",
       "      <td>NaN</td>\n",
       "      <td>NaN</td>\n",
       "    </tr>\n",
       "  </tbody>\n",
       "</table>\n",
       "<p>5 rows × 432 columns</p>\n",
       "</div>"
      ],
      "text/plain": [
       "               TransactionDT  TransactionAmt ProductCD  card1  card2  card3  \\\n",
       "TransactionID                                                                 \n",
       "3663549             18403224           31.95         W  10409  111.0  150.0   \n",
       "3663550             18403263           49.00         W   4272  111.0  150.0   \n",
       "3663551             18403310          171.00         W   4476  574.0  150.0   \n",
       "3663552             18403310          284.95         W  10989  360.0  150.0   \n",
       "3663553             18403317           67.95         W  18018  452.0  150.0   \n",
       "\n",
       "                    card4  card5  card6  addr1  ...  id_31  id_32  id_33  \\\n",
       "TransactionID                                   ...                        \n",
       "3663549              visa  226.0  debit  170.0  ...    NaN    NaN    NaN   \n",
       "3663550              visa  226.0  debit  299.0  ...    NaN    NaN    NaN   \n",
       "3663551              visa  226.0  debit  472.0  ...    NaN    NaN    NaN   \n",
       "3663552              visa  166.0  debit  205.0  ...    NaN    NaN    NaN   \n",
       "3663553        mastercard  117.0  debit  264.0  ...    NaN    NaN    NaN   \n",
       "\n",
       "              id_34 id_35  id_36  id_37  id_38  DeviceType  DeviceInfo  \n",
       "TransactionID                                                           \n",
       "3663549         NaN   NaN    NaN    NaN    NaN         NaN         NaN  \n",
       "3663550         NaN   NaN    NaN    NaN    NaN         NaN         NaN  \n",
       "3663551         NaN   NaN    NaN    NaN    NaN         NaN         NaN  \n",
       "3663552         NaN   NaN    NaN    NaN    NaN         NaN         NaN  \n",
       "3663553         NaN   NaN    NaN    NaN    NaN         NaN         NaN  \n",
       "\n",
       "[5 rows x 432 columns]"
      ]
     },
     "execution_count": 17,
     "metadata": {},
     "output_type": "execute_result"
    }
   ],
   "source": [
    "test.head()"
   ]
  },
  {
   "cell_type": "code",
   "execution_count": 18,
   "metadata": {},
   "outputs": [
    {
     "name": "stdout",
     "output_type": "stream",
     "text": [
      "<class 'pandas.core.frame.DataFrame'>\n",
      "Int64Index: 590540 entries, 2987000 to 3577539\n",
      "Columns: 433 entries, isFraud to DeviceInfo\n",
      "dtypes: float64(399), int64(3), object(31)\n",
      "memory usage: 1.9+ GB\n"
     ]
    }
   ],
   "source": [
    "train.info()"
   ]
  },
  {
   "cell_type": "code",
   "execution_count": 19,
   "metadata": {},
   "outputs": [
    {
     "name": "stdout",
     "output_type": "stream",
     "text": [
      "<class 'pandas.core.frame.DataFrame'>\n",
      "Int64Index: 506691 entries, 3663549 to 4170239\n",
      "Columns: 432 entries, TransactionDT to DeviceInfo\n",
      "dtypes: float64(399), int64(2), object(31)\n",
      "memory usage: 1.7+ GB\n"
     ]
    }
   ],
   "source": [
    "test.info()"
   ]
  },
  {
   "cell_type": "markdown",
   "metadata": {},
   "source": [
    "# Unbalance Target "
   ]
  },
  {
   "cell_type": "code",
   "execution_count": 20,
   "metadata": {},
   "outputs": [
    {
     "data": {
      "text/plain": [
       "Text(0.5, 1.0, 'Target variable count')"
      ]
     },
     "execution_count": 20,
     "metadata": {},
     "output_type": "execute_result"
    },
    {
     "data": {
      "image/png": "[encoded data removed]",
      "text/plain": [
       "<Figure size 432x288 with 1 Axes>"
      ]
     },
     "metadata": {},
     "output_type": "display_data"
    }
   ],
   "source": [
    "x=train_transaction['isFraud'].value_counts().values\n",
    "sns.barplot([0,1],x)\n",
    "plt.title('Target variable count')"
   ]
  },
  {
   "cell_type": "markdown",
   "metadata": {},
   "source": [
    "As we can see above, the target variable is imbalance class. Therefore, If we apply machine learning method before preprocessing data, the result will be heavily affected by the overwhelming one."
   ]
  },
  {
   "cell_type": "markdown",
   "metadata": {},
   "source": [
    "Change the performance metric\n",
    "\n",
    "As we saw above, accuracy is not the best metric to use when evaluating imbalanced datasets as it can be very misleading. Metrics that can provide better insight include:\n",
    "\n",
    "Confusion Matrix: a table showing correct predictions and types of incorrect predictions.\n",
    "\n",
    "Precision: the number of true positives divided by all positive predictions. Precision is also called Positive Predictive Value. It is a measure of a classifier’s exactness. Low precision indicates a high number of false positives.\n",
    "\n",
    "Recall: the number of true positives divided by the number of positive values in the test data. Recall is also called Sensitivity or the True Positive Rate. It is a measure of a classifier’s completeness. Low recall indicates a high number of false negatives.\n",
    "\n",
    "F1 Score: the weighted average of precision and recall."
   ]
  },
  {
   "cell_type": "markdown",
   "metadata": {},
   "source": [
    "# Missing values"
   ]
  },
  {
   "cell_type": "code",
   "execution_count": 21,
   "metadata": {},
   "outputs": [],
   "source": [
    "del train_identity, train_transaction, test_identity, test_transaction"
   ]
  },
  {
   "cell_type": "code",
   "execution_count": 22,
   "metadata": {},
   "outputs": [
    {
     "name": "stdout",
     "output_type": "stream",
     "text": [
      "There are 414 columns in train dataset with missing values.\n"
     ]
    }
   ],
   "source": [
    "print(f'There are {train.isnull().any().sum()} columns in train dataset with missing values.')"
   ]
  },
  {
   "cell_type": "code",
   "execution_count": 23,
   "metadata": {},
   "outputs": [
    {
     "data": {
      "text/plain": [
       "False"
      ]
     },
     "execution_count": 23,
     "metadata": {},
     "output_type": "execute_result"
    }
   ],
   "source": [
    "one_value_cols = [col for col in train.columns if train[col].nunique() <= 1]\n",
    "one_value_cols_test = [col for col in test.columns if test[col].nunique() <= 1]\n",
    "one_value_cols == one_value_cols_test"
   ]
  },
  {
   "cell_type": "code",
   "execution_count": 24,
   "metadata": {},
   "outputs": [
    {
     "name": "stdout",
     "output_type": "stream",
     "text": [
      "There are 0 columns in train dataset with one unique value.\n",
      "There are 1 columns in test dataset with one unique value.\n"
     ]
    }
   ],
   "source": [
    "print(f'There are {len(one_value_cols)} columns in train dataset with one unique value.')\n",
    "print(f'There are {len(one_value_cols_test)} columns in test dataset with one unique value.')"
   ]
  },
  {
   "cell_type": "code",
   "execution_count": 25,
   "metadata": {},
   "outputs": [
    {
     "name": "stdout",
     "output_type": "stream",
     "text": [
      "['dist2', 'D7', 'id_07', 'id_08', 'id_18', 'id_21', 'id_22', 'id_23', 'id_24', 'id_25', 'id_26', 'id_27']\n"
     ]
    }
   ],
   "source": [
    "many_null_cols = [col for col in train.columns if train[col].isnull().sum() / train.shape[0] > 0.9]\n",
    "many_null_cols_test = [col for col in test.columns if test[col].isnull().sum() / test.shape[0] > 0.9]\n",
    "print(many_null_cols)"
   ]
  },
  {
   "cell_type": "code",
   "execution_count": 26,
   "metadata": {},
   "outputs": [
    {
     "name": "stdout",
     "output_type": "stream",
     "text": [
      "['isFraud', 'dist2', 'C3', 'D7', 'V98', 'V101', 'V102', 'V103', 'V104', 'V105', 'V106', 'V107', 'V108', 'V109', 'V110', 'V111', 'V112', 'V113', 'V114', 'V115', 'V116', 'V117', 'V118', 'V119', 'V120', 'V121', 'V122', 'V123', 'V124', 'V125', 'V129', 'V132', 'V133', 'V134', 'V135', 'V136', 'V137', 'V281', 'V284', 'V286', 'V290', 'V293', 'V295', 'V296', 'V297', 'V298', 'V299', 'V300', 'V301', 'V305', 'V309', 'V311', 'V316', 'V318', 'V319', 'V320', 'V321', 'id_07', 'id_08', 'id_18', 'id_21', 'id_22', 'id_23', 'id_24', 'id_25', 'id_26', 'id_27']\n"
     ]
    }
   ],
   "source": [
    "big_top_value_cols = [col for col in train.columns if train[col].value_counts(dropna=False, normalize=True).values[0] > 0.9]\n",
    "big_top_value_cols_test = [col for col in test.columns if test[col].value_counts(dropna=False, normalize=True).values[0] > 0.9]\n",
    "print(big_top_value_cols)"
   ]
  },
  {
   "cell_type": "code",
   "execution_count": 27,
   "metadata": {},
   "outputs": [
    {
     "name": "stdout",
     "output_type": "stream",
     "text": [
      "['V103', 'V320', 'V284', 'V134', 'V24', 'V98', 'id_26', 'V105', 'V109', 'V309', 'dist2', 'V55', 'V311', 'V133', 'V286', 'V107', 'V66', 'V124', 'V305', 'V116', 'V281', 'V319', 'V65', 'V28', 'V89', 'V117', 'V118', 'V114', 'V136', 'V290', 'V23', 'V132', 'id_18', 'V120', 'id_27', 'V68', 'V137', 'id_23', 'id_24', 'V102', 'V113', 'id_21', 'V88', 'id_25', 'V295', 'V101', 'V77', 'id_08', 'id_22', 'V296', 'V321', 'V301', 'V318', 'V129', 'V119', 'V26', 'V316', 'V135', 'V297', 'V125', 'V121', 'V298', 'D7', 'C3', 'V122', 'V27', 'V25', 'V299', 'V115', 'V106', 'V104', 'V110', 'V14', 'V300', 'V86', 'V111', 'V112', 'V293', 'V67', 'id_07', 'V108', 'V123']\n"
     ]
    },
    {
     "data": {
      "text/plain": [
       "82"
      ]
     },
     "execution_count": 27,
     "metadata": {},
     "output_type": "execute_result"
    }
   ],
   "source": [
    "cols_to_drop = list(set(many_null_cols + many_null_cols_test + big_top_value_cols + big_top_value_cols_test + one_value_cols+ one_value_cols_test))\n",
    "cols_to_drop.remove('isFraud')\n",
    "print(cols_to_drop)\n",
    "len(cols_to_drop)"
   ]
  },
  {
   "cell_type": "code",
   "execution_count": 28,
   "metadata": {},
   "outputs": [],
   "source": [
    "train_data = train.drop(cols_to_drop, axis=1)\n",
    "test_data = test.drop(cols_to_drop, axis=1)"
   ]
  },
  {
   "cell_type": "code",
   "execution_count": 29,
   "metadata": {},
   "outputs": [
    {
     "name": "stdout",
     "output_type": "stream",
     "text": [
      "<class 'pandas.core.frame.DataFrame'>\n",
      "Int64Index: 590540 entries, 2987000 to 3577539\n",
      "Columns: 351 entries, isFraud to DeviceInfo\n",
      "dtypes: float64(319), int64(3), object(29)\n",
      "memory usage: 1.6+ GB\n"
     ]
    }
   ],
   "source": [
    "train_data.info()"
   ]
  },
  {
   "cell_type": "code",
   "execution_count": 30,
   "metadata": {},
   "outputs": [
    {
     "name": "stdout",
     "output_type": "stream",
     "text": [
      "<class 'pandas.core.frame.DataFrame'>\n",
      "Int64Index: 506691 entries, 3663549 to 4170239\n",
      "Columns: 350 entries, TransactionDT to DeviceInfo\n",
      "dtypes: float64(319), int64(2), object(29)\n",
      "memory usage: 1.3+ GB\n"
     ]
    }
   ],
   "source": [
    "test_data.info()"
   ]
  },
  {
   "cell_type": "code",
   "execution_count": 31,
   "metadata": {},
   "outputs": [],
   "source": [
    "X = train_data.loc[:, train_data.columns != 'isFraud' ]\n",
    "y = train_data.loc[:, train_data.columns == 'isFraud' ]"
   ]
  },
  {
   "cell_type": "markdown",
   "metadata": {},
   "source": [
    "# Encoding data"
   ]
  },
  {
   "cell_type": "code",
   "execution_count": 32,
   "metadata": {},
   "outputs": [],
   "source": [
    "## Label Encoding\n",
    "for f in train_data.columns:\n",
    "    if train_data[f].dtype=='object' or train_data[f].dtype=='object': \n",
    "        lbl = preprocessing.LabelEncoder()\n",
    "        lbl.fit(list(train_data[f].values) + list(test_data[f].values))\n",
    "        train_data[f] = lbl.transform(list(train_data[f].values))\n",
    "        test_data[f] = lbl.transform(list(test_data[f].values))"
   ]
  },
  {
   "cell_type": "code",
   "execution_count": 33,
   "metadata": {},
   "outputs": [],
   "source": [
    "y_train = train_data['isFraud'].copy()\n",
    "\n",
    "# Drop target, fill in NaNs\n",
    "X_train = train_data.drop('isFraud', axis=1)\n",
    "X_test = test_data.copy()\n",
    "\n",
    "del train, test"
   ]
  },
  {
   "cell_type": "code",
   "execution_count": 34,
   "metadata": {},
   "outputs": [
    {
     "name": "stdout",
     "output_type": "stream",
     "text": [
      "Memory usage of dataframe is 1601.42 MB\n",
      "Memory usage after optimization is: 443.51 MB\n",
      "Decreased by 72.3%\n",
      "Memory usage of dataframe is 1356.88 MB\n",
      "Memory usage after optimization is: 371.11 MB\n",
      "Decreased by 72.6%\n",
      "Wall time: 4min 18s\n",
      "Parser   : 483 ms\n"
     ]
    }
   ],
   "source": [
    "%%time\n",
    "# From kernel https://www.kaggle.com/gemartin/load-data-reduce-memory-usage\n",
    "# WARNING! THIS CAN DAMAGE THE DATA \n",
    "def reduce_mem_usage(df):\n",
    "    \"\"\" iterate through all the columns of a dataframe and modify the data type\n",
    "        to reduce memory usage.        \n",
    "    \"\"\"\n",
    "    start_mem = df.memory_usage().sum() / 1024**2\n",
    "    print('Memory usage of dataframe is {:.2f} MB'.format(start_mem))\n",
    "    \n",
    "    for col in df.columns:\n",
    "        col_type = df[col].dtype\n",
    "        \n",
    "        if col_type != object:\n",
    "            c_min = df[col].min()\n",
    "            c_max = df[col].max()\n",
    "            if str(col_type)[:3] == 'int':\n",
    "                if c_min > np.iinfo(np.int8).min and c_max < np.iinfo(np.int8).max:\n",
    "                    df[col] = df[col].astype(np.int8)\n",
    "                elif c_min > np.iinfo(np.int16).min and c_max < np.iinfo(np.int16).max:\n",
    "                    df[col] = df[col].astype(np.int16)\n",
    "                elif c_min > np.iinfo(np.int32).min and c_max < np.iinfo(np.int32).max:\n",
    "                    df[col] = df[col].astype(np.int32)\n",
    "                elif c_min > np.iinfo(np.int64).min and c_max < np.iinfo(np.int64).max:\n",
    "                    df[col] = df[col].astype(np.int64)  \n",
    "            else:\n",
    "                if c_min > np.finfo(np.float16).min and c_max < np.finfo(np.float16).max:\n",
    "                    df[col] = df[col].astype(np.float16)\n",
    "                elif c_min > np.finfo(np.float32).min and c_max < np.finfo(np.float32).max:\n",
    "                    df[col] = df[col].astype(np.float32)\n",
    "                else:\n",
    "                    df[col] = df[col].astype(np.float64)\n",
    "        else:\n",
    "            df[col] = df[col].astype('category')\n",
    "\n",
    "    end_mem = df.memory_usage().sum() / 1024**2\n",
    "    print('Memory usage after optimization is: {:.2f} MB'.format(end_mem))\n",
    "    print('Decreased by {:.1f}%'.format(100 * (start_mem - end_mem) / start_mem))\n",
    "    \n",
    "    return df\n",
    "X_train = reduce_mem_usage(X_train)\n",
    "X_test = reduce_mem_usage(X_test)"
   ]
  },
  {
   "cell_type": "code",
   "execution_count": 35,
   "metadata": {},
   "outputs": [
    {
     "data": {
      "text/html": [
       "<div>\n",
       "<style scoped>\n",
       "    .dataframe tbody tr th:only-of-type {\n",
       "        vertical-align: middle;\n",
       "    }\n",
       "\n",
       "    .dataframe tbody tr th {\n",
       "        vertical-align: top;\n",
       "    }\n",
       "\n",
       "    .dataframe thead th {\n",
       "        text-align: right;\n",
       "    }\n",
       "</style>\n",
       "<table border=\"1\" class=\"dataframe\">\n",
       "  <thead>\n",
       "    <tr style=\"text-align: right;\">\n",
       "      <th></th>\n",
       "      <th>TransactionDT</th>\n",
       "      <th>TransactionAmt</th>\n",
       "      <th>ProductCD</th>\n",
       "      <th>card1</th>\n",
       "      <th>card2</th>\n",
       "      <th>card3</th>\n",
       "      <th>card4</th>\n",
       "      <th>card5</th>\n",
       "      <th>card6</th>\n",
       "      <th>addr1</th>\n",
       "      <th>...</th>\n",
       "      <th>id_31</th>\n",
       "      <th>id_32</th>\n",
       "      <th>id_33</th>\n",
       "      <th>id_34</th>\n",
       "      <th>id_35</th>\n",
       "      <th>id_36</th>\n",
       "      <th>id_37</th>\n",
       "      <th>id_38</th>\n",
       "      <th>DeviceType</th>\n",
       "      <th>DeviceInfo</th>\n",
       "    </tr>\n",
       "    <tr>\n",
       "      <th>TransactionID</th>\n",
       "      <th></th>\n",
       "      <th></th>\n",
       "      <th></th>\n",
       "      <th></th>\n",
       "      <th></th>\n",
       "      <th></th>\n",
       "      <th></th>\n",
       "      <th></th>\n",
       "      <th></th>\n",
       "      <th></th>\n",
       "      <th></th>\n",
       "      <th></th>\n",
       "      <th></th>\n",
       "      <th></th>\n",
       "      <th></th>\n",
       "      <th></th>\n",
       "      <th></th>\n",
       "      <th></th>\n",
       "      <th></th>\n",
       "      <th></th>\n",
       "      <th></th>\n",
       "    </tr>\n",
       "  </thead>\n",
       "  <tbody>\n",
       "    <tr>\n",
       "      <th>2987000</th>\n",
       "      <td>86400</td>\n",
       "      <td>68.5</td>\n",
       "      <td>4</td>\n",
       "      <td>13926</td>\n",
       "      <td>-999.0</td>\n",
       "      <td>150.0</td>\n",
       "      <td>1</td>\n",
       "      <td>142.0</td>\n",
       "      <td>1</td>\n",
       "      <td>315.0</td>\n",
       "      <td>...</td>\n",
       "      <td>136</td>\n",
       "      <td>-999.0</td>\n",
       "      <td>461</td>\n",
       "      <td>4</td>\n",
       "      <td>2</td>\n",
       "      <td>2</td>\n",
       "      <td>2</td>\n",
       "      <td>2</td>\n",
       "      <td>2</td>\n",
       "      <td>2740</td>\n",
       "    </tr>\n",
       "    <tr>\n",
       "      <th>2987001</th>\n",
       "      <td>86401</td>\n",
       "      <td>29.0</td>\n",
       "      <td>4</td>\n",
       "      <td>2755</td>\n",
       "      <td>404.0</td>\n",
       "      <td>150.0</td>\n",
       "      <td>2</td>\n",
       "      <td>102.0</td>\n",
       "      <td>1</td>\n",
       "      <td>325.0</td>\n",
       "      <td>...</td>\n",
       "      <td>136</td>\n",
       "      <td>-999.0</td>\n",
       "      <td>461</td>\n",
       "      <td>4</td>\n",
       "      <td>2</td>\n",
       "      <td>2</td>\n",
       "      <td>2</td>\n",
       "      <td>2</td>\n",
       "      <td>2</td>\n",
       "      <td>2740</td>\n",
       "    </tr>\n",
       "    <tr>\n",
       "      <th>2987002</th>\n",
       "      <td>86469</td>\n",
       "      <td>59.0</td>\n",
       "      <td>4</td>\n",
       "      <td>4663</td>\n",
       "      <td>490.0</td>\n",
       "      <td>150.0</td>\n",
       "      <td>4</td>\n",
       "      <td>166.0</td>\n",
       "      <td>2</td>\n",
       "      <td>330.0</td>\n",
       "      <td>...</td>\n",
       "      <td>136</td>\n",
       "      <td>-999.0</td>\n",
       "      <td>461</td>\n",
       "      <td>4</td>\n",
       "      <td>2</td>\n",
       "      <td>2</td>\n",
       "      <td>2</td>\n",
       "      <td>2</td>\n",
       "      <td>2</td>\n",
       "      <td>2740</td>\n",
       "    </tr>\n",
       "    <tr>\n",
       "      <th>2987003</th>\n",
       "      <td>86499</td>\n",
       "      <td>50.0</td>\n",
       "      <td>4</td>\n",
       "      <td>18132</td>\n",
       "      <td>567.0</td>\n",
       "      <td>150.0</td>\n",
       "      <td>2</td>\n",
       "      <td>117.0</td>\n",
       "      <td>2</td>\n",
       "      <td>476.0</td>\n",
       "      <td>...</td>\n",
       "      <td>136</td>\n",
       "      <td>-999.0</td>\n",
       "      <td>461</td>\n",
       "      <td>4</td>\n",
       "      <td>2</td>\n",
       "      <td>2</td>\n",
       "      <td>2</td>\n",
       "      <td>2</td>\n",
       "      <td>2</td>\n",
       "      <td>2740</td>\n",
       "    </tr>\n",
       "    <tr>\n",
       "      <th>2987004</th>\n",
       "      <td>86506</td>\n",
       "      <td>50.0</td>\n",
       "      <td>1</td>\n",
       "      <td>4497</td>\n",
       "      <td>514.0</td>\n",
       "      <td>150.0</td>\n",
       "      <td>2</td>\n",
       "      <td>102.0</td>\n",
       "      <td>1</td>\n",
       "      <td>420.0</td>\n",
       "      <td>...</td>\n",
       "      <td>162</td>\n",
       "      <td>32.0</td>\n",
       "      <td>268</td>\n",
       "      <td>3</td>\n",
       "      <td>1</td>\n",
       "      <td>0</td>\n",
       "      <td>1</td>\n",
       "      <td>1</td>\n",
       "      <td>1</td>\n",
       "      <td>1565</td>\n",
       "    </tr>\n",
       "  </tbody>\n",
       "</table>\n",
       "<p>5 rows × 350 columns</p>\n",
       "</div>"
      ],
      "text/plain": [
       "               TransactionDT  TransactionAmt  ProductCD  card1  card2  card3  \\\n",
       "TransactionID                                                                  \n",
       "2987000                86400            68.5          4  13926 -999.0  150.0   \n",
       "2987001                86401            29.0          4   2755  404.0  150.0   \n",
       "2987002                86469            59.0          4   4663  490.0  150.0   \n",
       "2987003                86499            50.0          4  18132  567.0  150.0   \n",
       "2987004                86506            50.0          1   4497  514.0  150.0   \n",
       "\n",
       "               card4  card5  card6  addr1  ...  id_31  id_32  id_33  id_34  \\\n",
       "TransactionID                              ...                               \n",
       "2987000            1  142.0      1  315.0  ...    136 -999.0    461      4   \n",
       "2987001            2  102.0      1  325.0  ...    136 -999.0    461      4   \n",
       "2987002            4  166.0      2  330.0  ...    136 -999.0    461      4   \n",
       "2987003            2  117.0      2  476.0  ...    136 -999.0    461      4   \n",
       "2987004            2  102.0      1  420.0  ...    162   32.0    268      3   \n",
       "\n",
       "               id_35  id_36  id_37  id_38  DeviceType  DeviceInfo  \n",
       "TransactionID                                                      \n",
       "2987000            2      2      2      2           2        2740  \n",
       "2987001            2      2      2      2           2        2740  \n",
       "2987002            2      2      2      2           2        2740  \n",
       "2987003            2      2      2      2           2        2740  \n",
       "2987004            1      0      1      1           1        1565  \n",
       "\n",
       "[5 rows x 350 columns]"
      ]
     },
     "execution_count": 35,
     "metadata": {},
     "output_type": "execute_result"
    }
   ],
   "source": [
    "X_train.fillna(-999,inplace=True)\n",
    "X_test.fillna(-999,inplace=True)\n",
    "X_train.head()"
   ]
  },
  {
   "cell_type": "markdown",
   "metadata": {},
   "source": [
    "# UnderSampling"
   ]
  },
  {
   "cell_type": "code",
   "execution_count": 36,
   "metadata": {},
   "outputs": [
    {
     "name": "stdout",
     "output_type": "stream",
     "text": [
      "train_set size: 33060 - Class0: 16530, Class1: 16530\n",
      "test_set size: 8266 - Class0: 4133, Class1: 4133\n"
     ]
    }
   ],
   "source": [
    "rus = RandomUnderSampler(random_state = 0, sampling_strategy = 1.0)\n",
    "X_resampled, y_resampled = rus.fit_resample(X_train, y_train)\n",
    "\n",
    "from sklearn.model_selection import train_test_split\n",
    "X_train, X_test, y_train, y_test = train_test_split(X_resampled, y_resampled, test_size = 0.20, stratify = y_resampled)\n",
    "\n",
    "print(\"train_set size: {} - Class0: {}, Class1: {}\".format( len(y_train), len(y_train[y_train == 0]), len(y_train[y_train == 1]) ))\n",
    "print(\"test_set size: {} - Class0: {}, Class1: {}\".format( len(y_test), len(y_test[y_test == 0]), len(y_test[y_test == 1]) ))"
   ]
  },
  {
   "cell_type": "markdown",
   "metadata": {},
   "source": [
    "# Logistic Regression"
   ]
  },
  {
   "cell_type": "code",
   "execution_count": 37,
   "metadata": {},
   "outputs": [
    {
     "name": "stderr",
     "output_type": "stream",
     "text": [
      "[Parallel(n_jobs=1)]: Using backend SequentialBackend with 1 concurrent workers.\n",
      "C:\\Users\\roger\\anaconda3\\envs\\tensorflow_env\\lib\\site-packages\\sklearn\\linear_model\\_logistic.py:940: ConvergenceWarning: lbfgs failed to converge (status=1):\n",
      "STOP: TOTAL NO. of ITERATIONS REACHED LIMIT.\n",
      "\n",
      "Increase the number of iterations (max_iter) or scale the data as shown in:\n",
      "    https://scikit-learn.org/stable/modules/preprocessing.html\n",
      "Please also refer to the documentation for alternative solver options:\n",
      "    https://scikit-learn.org/stable/modules/linear_model.html#logistic-regression\n",
      "  extra_warning_msg=_LOGISTIC_SOLVER_CONVERGENCE_MSG)\n",
      "[Parallel(n_jobs=1)]: Done   1 out of   1 | elapsed:    1.2s remaining:    0.0s\n",
      "[Parallel(n_jobs=1)]: Done   1 out of   1 | elapsed:    1.2s finished\n"
     ]
    },
    {
     "data": {
      "text/plain": [
       "LogisticRegression(C=1000, class_weight='balanced', dual=False,\n",
       "                   fit_intercept=True, intercept_scaling=1, l1_ratio=None,\n",
       "                   max_iter=100, multi_class='auto', n_jobs=None, penalty='l2',\n",
       "                   random_state=None, solver='lbfgs', tol=0.0001, verbose=2,\n",
       "                   warm_start=False)"
      ]
     },
     "execution_count": 37,
     "metadata": {},
     "output_type": "execute_result"
    }
   ],
   "source": [
    "from sklearn.linear_model import LogisticRegression\n",
    "logmodel = LogisticRegression(C=1000,class_weight= 'balanced', verbose=2)\n",
    "logmodel.fit(X_train, y_train)"
   ]
  },
  {
   "cell_type": "code",
   "execution_count": 38,
   "metadata": {},
   "outputs": [
    {
     "data": {
      "text/plain": [
       "0.6873941446890879"
      ]
     },
     "execution_count": 38,
     "metadata": {},
     "output_type": "execute_result"
    }
   ],
   "source": [
    "predictions = logmodel.predict(X_test)\n",
    "\n",
    "logistic_regresion= logmodel.score(X_test, y_test)\n",
    "logistic_regresion"
   ]
  },
  {
   "cell_type": "code",
   "execution_count": 39,
   "metadata": {},
   "outputs": [
    {
     "name": "stdout",
     "output_type": "stream",
     "text": [
      "[[3279  854]\n",
      " [1730 2403]]\n"
     ]
    }
   ],
   "source": [
    "from sklearn.metrics import confusion_matrix\n",
    "cm = confusion_matrix(y_test, predictions)\n",
    "print(cm)"
   ]
  },
  {
   "cell_type": "code",
   "execution_count": 41,
   "metadata": {},
   "outputs": [
    {
     "data": {
      "image/png": "[encoded data removed]",
      "text/plain": [
       "<Figure size 432x288 with 1 Axes>"
      ]
     },
     "metadata": {},
     "output_type": "display_data"
    }
   ],
   "source": [
    "plt.clf()\n",
    "plt.imshow(cm, interpolation='nearest', cmap=plt.cm.copper)\n",
    "classNames = ['Negative','Positive']\n",
    "plt.title('Fraud or Not Fraud Confusion Matrix -Logistic Regression- Test Data')\n",
    "plt.ylabel('True label')\n",
    "plt.xlabel('Predicted label')\n",
    "tick_marks = np.arange(len(classNames))\n",
    "plt.xticks(tick_marks, classNames, rotation=45)\n",
    "plt.yticks(tick_marks, classNames)\n",
    "s = [['TN','FP'], ['FN', 'TP']]\n",
    "for i in range(2):\n",
    "    for j in range(2):\n",
    "        plt.text(j,i, str(s[i][j])+\" = \"+str(cm[i][j]), color = 'white')\n",
    "plt.show()"
   ]
  },
  {
   "cell_type": "code",
   "execution_count": 42,
   "metadata": {},
   "outputs": [
    {
     "name": "stdout",
     "output_type": "stream",
     "text": [
      "              precision    recall  f1-score   support\n",
      "\n",
      "           0       0.65      0.79      0.72      4133\n",
      "           1       0.74      0.58      0.65      4133\n",
      "\n",
      "    accuracy                           0.69      8266\n",
      "   macro avg       0.70      0.69      0.68      8266\n",
      "weighted avg       0.70      0.69      0.68      8266\n",
      "\n"
     ]
    }
   ],
   "source": [
    "from sklearn.metrics import classification_report\n",
    "print(classification_report(y_test, predictions))"
   ]
  },
  {
   "cell_type": "code",
   "execution_count": 43,
   "metadata": {},
   "outputs": [
    {
     "data": {
      "image/png": "[encoded data removed]",
      "text/plain": [
       "<Figure size 432x288 with 1 Axes>"
      ]
     },
     "metadata": {},
     "output_type": "display_data"
    }
   ],
   "source": [
    "from sklearn.metrics import roc_auc_score\n",
    "from sklearn.metrics import roc_curve\n",
    "logit_roc_auc = roc_auc_score(y_test, logmodel.predict(X_test))\n",
    "fpr, tpr, thresholds = roc_curve(y_test, logmodel.predict_proba(X_test)[:,1])\n",
    "plt.figure()\n",
    "plt.plot(fpr, tpr, label='Logistic Regression (area = %0.2f)' % logit_roc_auc)\n",
    "plt.plot([0, 1], [0, 1],'r--')\n",
    "plt.xlim([0.0, 1.0])\n",
    "plt.ylim([0.0, 1.05])\n",
    "plt.xlabel('False Positive Rate')\n",
    "plt.ylabel('True Positive Rate')\n",
    "plt.title('Receiver operating characteristic')\n",
    "plt.legend(loc=\"lower right\")\n",
    "plt.savefig('Log_ROC')\n",
    "plt.show()"
   ]
  },
  {
   "cell_type": "markdown",
   "metadata": {},
   "source": [
    "# Neural Network"
   ]
  },
  {
   "cell_type": "markdown",
   "metadata": {},
   "source": [
    "# *Basic model, 6 layers"
   ]
  },
  {
   "cell_type": "code",
   "execution_count": 44,
   "metadata": {},
   "outputs": [
    {
     "name": "stderr",
     "output_type": "stream",
     "text": [
      "C:\\Users\\roger\\anaconda3\\envs\\tensorflow_env\\lib\\site-packages\\ipykernel_launcher.py:3: UserWarning: Update your `Dense` call to the Keras 2 API: `Dense(activation=\"relu\", input_dim=350, units=128, kernel_initializer=\"uniform\")`\n",
      "  This is separate from the ipykernel package so we can avoid doing imports until\n",
      "C:\\Users\\roger\\anaconda3\\envs\\tensorflow_env\\lib\\site-packages\\ipykernel_launcher.py:4: UserWarning: Update your `Dense` call to the Keras 2 API: `Dense(activation=\"relu\", units=128, kernel_initializer=\"uniform\")`\n",
      "  after removing the cwd from sys.path.\n",
      "C:\\Users\\roger\\anaconda3\\envs\\tensorflow_env\\lib\\site-packages\\ipykernel_launcher.py:5: UserWarning: Update your `Dense` call to the Keras 2 API: `Dense(activation=\"relu\", units=128, kernel_initializer=\"uniform\")`\n",
      "  \"\"\"\n",
      "C:\\Users\\roger\\anaconda3\\envs\\tensorflow_env\\lib\\site-packages\\ipykernel_launcher.py:6: UserWarning: Update your `Dense` call to the Keras 2 API: `Dense(activation=\"relu\", units=128, kernel_initializer=\"uniform\")`\n",
      "  \n",
      "C:\\Users\\roger\\anaconda3\\envs\\tensorflow_env\\lib\\site-packages\\ipykernel_launcher.py:7: UserWarning: Update your `Dense` call to the Keras 2 API: `Dense(activation=\"relu\", units=128, kernel_initializer=\"uniform\")`\n",
      "  import sys\n",
      "C:\\Users\\roger\\anaconda3\\envs\\tensorflow_env\\lib\\site-packages\\ipykernel_launcher.py:8: UserWarning: Update your `Dense` call to the Keras 2 API: `Dense(activation=\"sigmoid\", units=1, kernel_initializer=\"uniform\")`\n",
      "  \n"
     ]
    }
   ],
   "source": [
    "from keras import optimizers\n",
    "baseline_model = keras.Sequential([\n",
    "    keras.layers.Dense(output_dim = 128, init = 'uniform', activation = 'relu', input_dim = 350),\n",
    "    keras.layers.Dense(output_dim = 128, init = 'uniform', activation = 'relu'),\n",
    "    keras.layers.Dense(output_dim = 128, init = 'uniform', activation = 'relu'),\n",
    "    keras.layers.Dense(output_dim = 128, init = 'uniform', activation = 'relu'),\n",
    "    keras.layers.Dense(output_dim = 128, init = 'uniform', activation = 'relu'),\n",
    "    keras.layers.Dense(output_dim = 1, init = 'uniform', activation = 'sigmoid')\n",
    "  ])\n",
    "\n",
    "baseline_model.compile(loss='binary_crossentropy',\n",
    "                optimizer='adam',\n",
    "                metrics=['accuracy'])"
   ]
  },
  {
   "cell_type": "code",
   "execution_count": 45,
   "metadata": {},
   "outputs": [
    {
     "name": "stdout",
     "output_type": "stream",
     "text": [
      "Train on 33060 samples, validate on 8266 samples\n",
      "Epoch 1/30\n",
      " - 1s - loss: 3.1787 - accuracy: 0.5833 - val_loss: 0.6688 - val_accuracy: 0.6164\n",
      "\n",
      ".Epoch 2/30\n",
      " - 1s - loss: 0.6535 - accuracy: 0.6370 - val_loss: 0.6382 - val_accuracy: 0.6394\n",
      ".Epoch 3/30\n",
      " - 1s - loss: 0.6537 - accuracy: 0.6523 - val_loss: 0.6316 - val_accuracy: 0.6749\n",
      ".Epoch 4/30\n",
      " - 1s - loss: 0.6308 - accuracy: 0.6642 - val_loss: 0.6123 - val_accuracy: 0.6954\n",
      ".Epoch 5/30\n",
      " - 1s - loss: 0.6225 - accuracy: 0.6753 - val_loss: 0.6527 - val_accuracy: 0.6844\n",
      ".Epoch 6/30\n",
      " - 1s - loss: 0.6336 - accuracy: 0.6665 - val_loss: 0.6020 - val_accuracy: 0.6953\n",
      ".Epoch 7/30\n",
      " - 1s - loss: 0.6088 - accuracy: 0.6861 - val_loss: 0.6035 - val_accuracy: 0.7191\n",
      ".Epoch 8/30\n",
      " - 1s - loss: 0.6100 - accuracy: 0.6850 - val_loss: 0.6384 - val_accuracy: 0.6218\n",
      ".Epoch 9/30\n",
      " - 1s - loss: 0.5975 - accuracy: 0.6965 - val_loss: 0.5904 - val_accuracy: 0.6915\n",
      ".Epoch 10/30\n",
      " - 1s - loss: 0.5979 - accuracy: 0.6930 - val_loss: 0.5803 - val_accuracy: 0.7028\n",
      ".Epoch 11/30\n",
      " - 1s - loss: 0.5929 - accuracy: 0.6988 - val_loss: 0.6267 - val_accuracy: 0.6547\n",
      "\n",
      ".Epoch 12/30\n",
      " - 1s - loss: 0.5978 - accuracy: 0.6958 - val_loss: 0.5747 - val_accuracy: 0.7070\n",
      ".Epoch 13/30\n",
      " - 1s - loss: 0.5848 - accuracy: 0.7038 - val_loss: 0.5521 - val_accuracy: 0.7191\n",
      ".Epoch 14/30\n",
      " - 1s - loss: 0.5856 - accuracy: 0.7041 - val_loss: 0.5841 - val_accuracy: 0.7024\n",
      ".Epoch 15/30\n",
      " - 1s - loss: 0.5851 - accuracy: 0.7033 - val_loss: 0.6189 - val_accuracy: 0.6279\n",
      ".Epoch 16/30\n",
      " - 1s - loss: 0.5837 - accuracy: 0.7057 - val_loss: 0.5509 - val_accuracy: 0.7236\n",
      ".Epoch 17/30\n",
      " - 1s - loss: 0.5799 - accuracy: 0.7111 - val_loss: 0.5603 - val_accuracy: 0.7422\n",
      ".Epoch 18/30\n",
      " - 1s - loss: 0.5750 - accuracy: 0.7146 - val_loss: 0.6225 - val_accuracy: 0.6530\n",
      ".Epoch 19/30\n",
      " - 1s - loss: 0.5682 - accuracy: 0.7206 - val_loss: 0.5582 - val_accuracy: 0.7238\n",
      ".Epoch 20/30\n",
      " - 1s - loss: 0.5741 - accuracy: 0.7145 - val_loss: 0.5892 - val_accuracy: 0.6790\n",
      ".Epoch 21/30\n",
      " - 1s - loss: 0.5713 - accuracy: 0.7169 - val_loss: 0.5693 - val_accuracy: 0.7208\n",
      "\n",
      ".Epoch 22/30\n",
      " - 1s - loss: 0.5677 - accuracy: 0.7205 - val_loss: 0.5404 - val_accuracy: 0.7416\n",
      ".Epoch 23/30\n",
      " - 1s - loss: 0.5646 - accuracy: 0.7213 - val_loss: 0.5559 - val_accuracy: 0.7435\n",
      ".Epoch 24/30\n",
      " - 1s - loss: 0.5620 - accuracy: 0.7261 - val_loss: 0.5789 - val_accuracy: 0.7210\n",
      ".Epoch 25/30\n",
      " - 1s - loss: 0.5626 - accuracy: 0.7255 - val_loss: 0.5497 - val_accuracy: 0.7415\n",
      ".Epoch 26/30\n",
      " - 1s - loss: 0.5637 - accuracy: 0.7254 - val_loss: 0.5389 - val_accuracy: 0.7414\n",
      ".Epoch 27/30\n",
      " - 1s - loss: 0.5568 - accuracy: 0.7286 - val_loss: 0.5486 - val_accuracy: 0.7433\n",
      ".Epoch 28/30\n",
      " - 1s - loss: 0.5547 - accuracy: 0.7312 - val_loss: 0.5366 - val_accuracy: 0.7440\n",
      ".Epoch 29/30\n",
      " - 1s - loss: 0.5550 - accuracy: 0.7315 - val_loss: 0.5304 - val_accuracy: 0.7484\n",
      ".Epoch 30/30\n",
      " - 1s - loss: 0.5630 - accuracy: 0.7289 - val_loss: 0.5650 - val_accuracy: 0.7219\n",
      "."
     ]
    }
   ],
   "source": [
    "class PrintDot(keras.callbacks.Callback):\n",
    "  def on_epoch_end(self, epoch, logs):\n",
    "    if epoch % 10 == 0: print('')\n",
    "    print('.', end='')\n",
    "\n",
    "b_history = baseline_model.fit(X_train, y_train, epochs=30, validation_data=(X_test, y_test), batch_size=100, verbose = 2, callbacks=[PrintDot()])"
   ]
  },
  {
   "cell_type": "code",
   "execution_count": 46,
   "metadata": {},
   "outputs": [
    {
     "data": {
      "text/plain": [
       "0.721872731671909"
      ]
     },
     "execution_count": 46,
     "metadata": {},
     "output_type": "execute_result"
    }
   ],
   "source": [
    "from sklearn.metrics import confusion_matrix\n",
    "y_pred = baseline_model.predict(X_test)\n",
    "y_pred = (y_pred > 0.5)\n",
    "cm = confusion_matrix(y_test, y_pred)\n",
    "base_score=roc_auc_score(y_test, y_pred)\n",
    "base_score"
   ]
  },
  {
   "cell_type": "code",
   "execution_count": 47,
   "metadata": {},
   "outputs": [
    {
     "data": {
      "text/plain": [
       "array([[3597,  536],\n",
       "       [1763, 2370]], dtype=int64)"
      ]
     },
     "execution_count": 47,
     "metadata": {},
     "output_type": "execute_result"
    }
   ],
   "source": [
    "cm"
   ]
  },
  {
   "cell_type": "code",
   "execution_count": 48,
   "metadata": {},
   "outputs": [
    {
     "data": {
      "image/png": "[encoded data removed]",
      "text/plain": [
       "<Figure size 432x288 with 1 Axes>"
      ]
     },
     "metadata": {},
     "output_type": "display_data"
    }
   ],
   "source": [
    "plt.clf()\n",
    "plt.imshow(cm, interpolation='nearest', cmap=plt.cm.copper)\n",
    "classNames = ['Negative','Positive']\n",
    "plt.title('Fraud or Not Fraud Confusion Matrix - Test Data - Base model')\n",
    "plt.ylabel('True label')\n",
    "plt.xlabel('Predicted label')\n",
    "tick_marks = np.arange(len(classNames))\n",
    "plt.xticks(tick_marks, classNames, rotation=45)\n",
    "plt.yticks(tick_marks, classNames)\n",
    "s = [['TN','FP'], ['FN', 'TP']]\n",
    "for i in range(2):\n",
    "    for j in range(2):\n",
    "        plt.text(j,i, str(s[i][j])+\" = \"+str(cm[i][j]), color = 'white')\n",
    "plt.show()"
   ]
  },
  {
   "cell_type": "code",
   "execution_count": 49,
   "metadata": {},
   "outputs": [
    {
     "name": "stdout",
     "output_type": "stream",
     "text": [
      "dict_keys(['val_loss', 'val_accuracy', 'loss', 'accuracy'])\n"
     ]
    }
   ],
   "source": [
    " print(b_history.history.keys())"
   ]
  },
  {
   "cell_type": "code",
   "execution_count": 50,
   "metadata": {},
   "outputs": [
    {
     "data": {
      "image/png": "[encoded data removed]",
      "text/plain": [
       "<Figure size 432x288 with 1 Axes>"
      ]
     },
     "metadata": {},
     "output_type": "display_data"
    }
   ],
   "source": [
    "# summarize history for accuracy\n",
    "plt.plot(b_history.history['accuracy'])\n",
    "plt.plot(b_history.history['val_accuracy'])\n",
    "plt.title('Base model accuracy')\n",
    "plt.ylabel('accuracy')\n",
    "plt.xlabel('epoch')\n",
    "plt.legend(['Training', 'Validation'], loc='upper left')\n",
    "plt.show()"
   ]
  },
  {
   "cell_type": "code",
   "execution_count": 51,
   "metadata": {},
   "outputs": [],
   "source": [
    "def auc(y_true, y_pred):\n",
    "    return tf.py_func(roc_auc_score, (y_true, y_pred), tf.double)"
   ]
  },
  {
   "cell_type": "code",
   "execution_count": 52,
   "metadata": {},
   "outputs": [],
   "source": [
    "from sklearn.metrics import roc_curve,roc_auc_score\n",
    " \n",
    "fpr , tpr , thresholds = roc_curve ( y_test , y_pred)"
   ]
  },
  {
   "cell_type": "code",
   "execution_count": 53,
   "metadata": {},
   "outputs": [
    {
     "data": {
      "image/png": "[encoded data removed]",
      "text/plain": [
       "<Figure size 432x288 with 1 Axes>"
      ]
     },
     "metadata": {},
     "output_type": "display_data"
    }
   ],
   "source": [
    "def plot_roc_curve(fpr,tpr): \n",
    "  plt.plot(fpr,tpr) \n",
    "  plt.axis([0,1,0,1]) \n",
    "  plt.xlabel('False Positive Rate') \n",
    "  plt.ylabel('True Positive Rate') \n",
    "  plt.show()    \n",
    "  \n",
    "plot_roc_curve (fpr,tpr) "
   ]
  },
  {
   "cell_type": "code",
   "execution_count": 54,
   "metadata": {},
   "outputs": [],
   "source": [
    "auc_score=roc_auc_score( y_test , y_pred)"
   ]
  },
  {
   "cell_type": "code",
   "execution_count": 55,
   "metadata": {},
   "outputs": [
    {
     "data": {
      "image/png": "[encoded data removed]",
      "text/plain": [
       "<Figure size 432x288 with 1 Axes>"
      ]
     },
     "metadata": {},
     "output_type": "display_data"
    }
   ],
   "source": [
    "plt.plot(b_history.history['loss'])\n",
    "plt.plot(b_history.history['val_loss'])\n",
    "plt.title('base model loss')\n",
    "plt.ylabel('loss')\n",
    "plt.xlabel('epoch')\n",
    "plt.legend(['train', 'test'], loc='upper right')\n",
    "plt.show()"
   ]
  },
  {
   "cell_type": "markdown",
   "metadata": {},
   "source": [
    "# Improved Neural Network"
   ]
  },
  {
   "cell_type": "markdown",
   "metadata": {},
   "source": [
    "# *Improved model 1:  Class weighted"
   ]
  },
  {
   "cell_type": "code",
   "execution_count": 130,
   "metadata": {},
   "outputs": [
    {
     "name": "stderr",
     "output_type": "stream",
     "text": [
      "C:\\Users\\roger\\anaconda3\\envs\\tensorflow_env\\lib\\site-packages\\ipykernel_launcher.py:3: UserWarning: Update your `Dense` call to the Keras 2 API: `Dense(activation=\"relu\", input_dim=350, units=128, kernel_initializer=\"uniform\")`\n",
      "  This is separate from the ipykernel package so we can avoid doing imports until\n",
      "C:\\Users\\roger\\anaconda3\\envs\\tensorflow_env\\lib\\site-packages\\ipykernel_launcher.py:4: UserWarning: Update your `Dense` call to the Keras 2 API: `Dense(activation=\"relu\", units=128, kernel_initializer=\"uniform\")`\n",
      "  after removing the cwd from sys.path.\n",
      "C:\\Users\\roger\\anaconda3\\envs\\tensorflow_env\\lib\\site-packages\\ipykernel_launcher.py:6: UserWarning: Update your `Dense` call to the Keras 2 API: `Dense(activation=\"relu\", units=128, kernel_initializer=\"uniform\")`\n",
      "  \n",
      "C:\\Users\\roger\\anaconda3\\envs\\tensorflow_env\\lib\\site-packages\\ipykernel_launcher.py:9: UserWarning: Update your `Dense` call to the Keras 2 API: `Dense(activation=\"relu\", units=128, kernel_initializer=\"uniform\")`\n",
      "  if __name__ == '__main__':\n",
      "C:\\Users\\roger\\anaconda3\\envs\\tensorflow_env\\lib\\site-packages\\ipykernel_launcher.py:10: UserWarning: Update your `Dense` call to the Keras 2 API: `Dense(activation=\"sigmoid\", units=1, kernel_initializer=\"uniform\")`\n",
      "  # Remove the CWD from sys.path while we load stuff.\n"
     ]
    }
   ],
   "source": [
    "from keras import optimizers\n",
    "baseline_model = keras.Sequential([\n",
    "    keras.layers.Dense(output_dim = 128, init = 'uniform', activation = 'relu', input_dim = 350),\n",
    "    keras.layers.Dense(output_dim = 128, init = 'uniform', activation = 'relu'),\n",
    "    #keras.layers.Dense(output_dim = 128, init = 'uniform', activation = 'relu'),\n",
    "    keras.layers.Dense(output_dim = 128, init = 'uniform', activation = 'relu'),\n",
    "    #keras.layers.Dense(output_dim = 128, init = 'uniform', activation = 'relu'),\n",
    "    #keras.layers.Dense(output_dim = 128, init = 'uniform', activation = 'relu'),\n",
    "    keras.layers.Dense(output_dim = 128, init = 'uniform', activation = 'relu'),    \n",
    "    keras.layers.Dense(output_dim = 1, init = 'uniform', activation = 'sigmoid')\n",
    "  ])\n",
    "\n",
    "baseline_model.compile(loss='binary_crossentropy',\n",
    "                optimizer='adam',\n",
    "                metrics=['accuracy'])"
   ]
  },
  {
   "cell_type": "code",
   "execution_count": 131,
   "metadata": {},
   "outputs": [
    {
     "name": "stdout",
     "output_type": "stream",
     "text": [
      "Train on 26448 samples, validate on 6612 samples\n",
      "Epoch 1/30\n",
      " - 1s - loss: 32.0154 - accuracy: 0.5338 - val_loss: 1.7889 - val_accuracy: 0.5581\n",
      "\n",
      ".Epoch 2/30\n",
      " - 1s - loss: 1.0484 - accuracy: 0.5810 - val_loss: 0.8468 - val_accuracy: 0.5676\n",
      ".Epoch 3/30\n",
      " - 1s - loss: 1.7096 - accuracy: 0.5541 - val_loss: 0.9229 - val_accuracy: 0.5266\n",
      ".Epoch 4/30\n",
      " - 1s - loss: 1.2128 - accuracy: 0.5600 - val_loss: 0.9398 - val_accuracy: 0.6801\n",
      ".Epoch 5/30\n",
      " - 1s - loss: 0.9022 - accuracy: 0.5761 - val_loss: 0.8621 - val_accuracy: 0.6877\n",
      ".Epoch 6/30\n",
      " - 1s - loss: 0.8907 - accuracy: 0.5782 - val_loss: 0.8873 - val_accuracy: 0.6871\n",
      ".Epoch 7/30\n",
      " - 1s - loss: 0.8955 - accuracy: 0.5792 - val_loss: 0.8678 - val_accuracy: 0.5042\n",
      ".Epoch 8/30\n",
      " - 1s - loss: 0.8903 - accuracy: 0.5800 - val_loss: 0.8385 - val_accuracy: 0.5492\n",
      ".Epoch 9/30\n",
      " - 1s - loss: 0.8827 - accuracy: 0.5773 - val_loss: 0.8484 - val_accuracy: 0.6676\n",
      ".Epoch 10/30\n",
      " - 1s - loss: 0.8739 - accuracy: 0.5926 - val_loss: 0.9926 - val_accuracy: 0.6895\n",
      ".Epoch 11/30\n",
      " - 1s - loss: 0.8686 - accuracy: 0.5978 - val_loss: 0.8413 - val_accuracy: 0.6550\n",
      "\n",
      ".Epoch 12/30\n",
      " - 1s - loss: 0.8615 - accuracy: 0.5865 - val_loss: 0.8454 - val_accuracy: 0.5162\n",
      ".Epoch 13/30\n",
      " - 1s - loss: 1.0276 - accuracy: 0.5951 - val_loss: 15.8868 - val_accuracy: 0.5053\n",
      ".Epoch 14/30\n",
      " - 1s - loss: 3.9196 - accuracy: 0.5544 - val_loss: 0.9717 - val_accuracy: 0.6703\n",
      ".Epoch 15/30\n",
      " - 1s - loss: 0.8620 - accuracy: 0.5782 - val_loss: 0.8246 - val_accuracy: 0.6711\n",
      ".Epoch 16/30\n",
      " - 1s - loss: 0.8485 - accuracy: 0.6002 - val_loss: 0.8431 - val_accuracy: 0.5195\n",
      ".Epoch 17/30\n",
      " - 1s - loss: 0.8387 - accuracy: 0.6086 - val_loss: 0.8038 - val_accuracy: 0.5985\n",
      ".Epoch 18/30\n",
      " - 1s - loss: 0.8491 - accuracy: 0.6035 - val_loss: 0.8041 - val_accuracy: 0.6267\n",
      ".Epoch 19/30\n",
      " - 1s - loss: 0.8472 - accuracy: 0.6105 - val_loss: 0.8757 - val_accuracy: 0.5110\n",
      ".Epoch 20/30\n",
      " - 1s - loss: 0.8366 - accuracy: 0.6224 - val_loss: 0.7946 - val_accuracy: 0.6621\n",
      ".Epoch 21/30\n",
      " - 1s - loss: 0.8413 - accuracy: 0.6219 - val_loss: 0.8537 - val_accuracy: 0.7072\n",
      "\n",
      ".Epoch 22/30\n",
      " - 1s - loss: 0.8194 - accuracy: 0.6386 - val_loss: 0.8077 - val_accuracy: 0.6987\n",
      ".Epoch 23/30\n",
      " - 1s - loss: 0.8317 - accuracy: 0.6260 - val_loss: 0.7907 - val_accuracy: 0.7042\n",
      ".Epoch 24/30\n",
      " - 1s - loss: 0.8236 - accuracy: 0.6374 - val_loss: 0.8272 - val_accuracy: 0.5514\n",
      ".Epoch 25/30\n",
      " - 1s - loss: 0.8229 - accuracy: 0.6352 - val_loss: 0.7811 - val_accuracy: 0.7105\n",
      ".Epoch 26/30\n",
      " - 1s - loss: 0.8074 - accuracy: 0.6503 - val_loss: 0.8015 - val_accuracy: 0.6863\n",
      ".Epoch 27/30\n",
      " - 1s - loss: 0.8095 - accuracy: 0.6571 - val_loss: 0.9753 - val_accuracy: 0.7042\n",
      ".Epoch 28/30\n",
      " - 1s - loss: 0.8132 - accuracy: 0.6494 - val_loss: 0.8550 - val_accuracy: 0.7241\n",
      ".Epoch 29/30\n",
      " - 1s - loss: 0.8087 - accuracy: 0.6521 - val_loss: 0.8845 - val_accuracy: 0.5554\n",
      ".Epoch 30/30\n",
      " - 1s - loss: 0.8009 - accuracy: 0.6562 - val_loss: 0.7799 - val_accuracy: 0.7267\n",
      "."
     ]
    }
   ],
   "source": [
    "class PrintDot(keras.callbacks.Callback):\n",
    "  def on_epoch_end(self, epoch, logs):\n",
    "    if epoch % 10 == 0: print('')\n",
    "    print('.', end='')\n",
    "epochs =30\n",
    "b_history_weighted = baseline_model.fit(X_train, y_train, validation_split=0.2,epochs=epochs, verbose=2,batch_size=100, class_weight={0:1, 1:2}, callbacks=[PrintDot()])"
   ]
  },
  {
   "cell_type": "code",
   "execution_count": 132,
   "metadata": {},
   "outputs": [],
   "source": [
    "y_pred = baseline_model.predict(X_test)\n",
    "y_pred = (y_pred > 0.5)"
   ]
  },
  {
   "cell_type": "code",
   "execution_count": 133,
   "metadata": {},
   "outputs": [],
   "source": [
    "from sklearn.metrics import confusion_matrix\n",
    "cm = confusion_matrix(y_test, y_pred)"
   ]
  },
  {
   "cell_type": "code",
   "execution_count": 134,
   "metadata": {},
   "outputs": [
    {
     "data": {
      "text/plain": [
       "0.7296152915557705"
      ]
     },
     "execution_count": 134,
     "metadata": {},
     "output_type": "execute_result"
    }
   ],
   "source": [
    "base_weighted_score=roc_auc_score(y_test, y_pred)\n",
    "base_weighted_score"
   ]
  },
  {
   "cell_type": "code",
   "execution_count": 135,
   "metadata": {},
   "outputs": [
    {
     "data": {
      "text/plain": [
       "array([[2805, 1328],\n",
       "       [ 907, 3226]], dtype=int64)"
      ]
     },
     "execution_count": 135,
     "metadata": {},
     "output_type": "execute_result"
    }
   ],
   "source": [
    "cm"
   ]
  },
  {
   "cell_type": "code",
   "execution_count": 136,
   "metadata": {},
   "outputs": [
    {
     "name": "stdout",
     "output_type": "stream",
     "text": [
      "dict_keys(['val_loss', 'val_accuracy', 'loss', 'accuracy'])\n"
     ]
    }
   ],
   "source": [
    " print(b_history_weighted.history.keys())"
   ]
  },
  {
   "cell_type": "code",
   "execution_count": 137,
   "metadata": {},
   "outputs": [
    {
     "data": {
      "image/png": "[encoded data removed]",
      "text/plain": [
       "<Figure size 432x288 with 1 Axes>"
      ]
     },
     "metadata": {},
     "output_type": "display_data"
    }
   ],
   "source": [
    "# summarize history for accuracy\n",
    "plt.plot(b_history_weighted.history['accuracy'])\n",
    "plt.plot(b_history_weighted.history['val_accuracy'])\n",
    "plt.title('Model with class weight accuracy')\n",
    "plt.ylabel('accuracy')\n",
    "plt.xlabel('epoch')\n",
    "plt.legend(['Training', 'Validation'], loc='upper left')\n",
    "plt.show()"
   ]
  },
  {
   "cell_type": "code",
   "execution_count": 138,
   "metadata": {},
   "outputs": [],
   "source": [
    "def auc(y_true, y_pred):\n",
    "    return tf.py_func(roc_auc_score, (y_true, y_pred), tf.double)"
   ]
  },
  {
   "cell_type": "code",
   "execution_count": 139,
   "metadata": {},
   "outputs": [],
   "source": [
    "from sklearn.metrics import roc_curve,roc_auc_score\n",
    " \n",
    "fpr , tpr , thresholds = roc_curve ( y_test , y_pred)"
   ]
  },
  {
   "cell_type": "code",
   "execution_count": 140,
   "metadata": {},
   "outputs": [
    {
     "data": {
      "image/png": "[encoded data removed]",
      "text/plain": [
       "<Figure size 432x288 with 1 Axes>"
      ]
     },
     "metadata": {},
     "output_type": "display_data"
    }
   ],
   "source": [
    "def plot_roc_curve(fpr,tpr): \n",
    "  plt.plot(fpr,tpr) \n",
    "  plt.axis([0,1,0,1]) \n",
    "  plt.xlabel('False Positive Rate') \n",
    "  plt.ylabel('True Positive Rate') \n",
    "  plt.show()    \n",
    "  \n",
    "plot_roc_curve (fpr,tpr) "
   ]
  },
  {
   "cell_type": "code",
   "execution_count": 141,
   "metadata": {},
   "outputs": [],
   "source": [
    "auc_score=roc_auc_score( y_test , y_pred)"
   ]
  },
  {
   "cell_type": "code",
   "execution_count": 142,
   "metadata": {},
   "outputs": [
    {
     "data": {
      "image/png": "[encoded data removed]",
      "text/plain": [
       "<Figure size 432x288 with 1 Axes>"
      ]
     },
     "metadata": {},
     "output_type": "display_data"
    }
   ],
   "source": [
    "plt.plot(b_history_weighted.history['loss'])\n",
    "plt.plot(b_history_weighted.history['val_loss'])\n",
    "plt.title('Model with class weight accuracy')\n",
    "plt.ylabel('loss')\n",
    "plt.xlabel('epoch')\n",
    "plt.legend(['train', 'test'], loc='upper right')\n",
    "plt.show()"
   ]
  },
  {
   "cell_type": "code",
   "execution_count": 143,
   "metadata": {},
   "outputs": [
    {
     "data": {
      "image/png": "[encoded data removed]",
      "text/plain": [
       "<Figure size 432x288 with 1 Axes>"
      ]
     },
     "metadata": {},
     "output_type": "display_data"
    }
   ],
   "source": [
    "plt.clf()\n",
    "plt.imshow(cm, interpolation='nearest', cmap=plt.cm.copper)\n",
    "classNames = ['Negative','Positive']\n",
    "plt.title('Fraud or Not Fraud Confusion Matrix- Class weight - Test Data')\n",
    "plt.ylabel('True label')\n",
    "plt.xlabel('Predicted label')\n",
    "tick_marks = np.arange(len(classNames))\n",
    "plt.xticks(tick_marks, classNames, rotation=45)\n",
    "plt.yticks(tick_marks, classNames)\n",
    "s = [['TN','FP'], ['FN', 'TP']]\n",
    "for i in range(2):\n",
    "    for j in range(2):\n",
    "        plt.text(j,i, str(s[i][j])+\" = \"+str(cm[i][j]), color = 'white')\n",
    "plt.show()"
   ]
  },
  {
   "cell_type": "markdown",
   "metadata": {},
   "source": []
  },
  {
   "cell_type": "markdown",
   "metadata": {},
   "source": [
    "# Adding Normalization"
   ]
  },
  {
   "cell_type": "code",
   "execution_count": 70,
   "metadata": {},
   "outputs": [],
   "source": [
    "sc=StandardScaler()\n",
    "Xnor_train=sc.fit_transform(X_train)\n",
    "Xnor_test=sc.transform(X_test)"
   ]
  },
  {
   "cell_type": "code",
   "execution_count": 121,
   "metadata": {},
   "outputs": [
    {
     "name": "stdout",
     "output_type": "stream",
     "text": [
      "Train on 33060 samples, validate on 8266 samples\n",
      "Epoch 1/40\n",
      " - 1s - loss: 0.5226 - accuracy: 0.8123 - val_loss: 0.4481 - val_accuracy: 0.7882\n",
      "\n",
      ".Epoch 2/40\n",
      " - 1s - loss: 0.5163 - accuracy: 0.8174 - val_loss: 0.4916 - val_accuracy: 0.7662\n",
      ".Epoch 3/40\n",
      " - 1s - loss: 0.5126 - accuracy: 0.8186 - val_loss: 0.4431 - val_accuracy: 0.7969\n",
      ".Epoch 4/40\n",
      " - 1s - loss: 0.5107 - accuracy: 0.8184 - val_loss: 0.4458 - val_accuracy: 0.7976\n",
      ".Epoch 5/40\n",
      " - 1s - loss: 0.5072 - accuracy: 0.8204 - val_loss: 0.4528 - val_accuracy: 0.7995\n",
      ".Epoch 6/40\n",
      " - 1s - loss: 0.5043 - accuracy: 0.8222 - val_loss: 0.4310 - val_accuracy: 0.8069\n",
      ".Epoch 7/40\n",
      " - 1s - loss: 0.5007 - accuracy: 0.8219 - val_loss: 0.4412 - val_accuracy: 0.8052\n",
      ".Epoch 8/40\n",
      " - 1s - loss: 0.5004 - accuracy: 0.8220 - val_loss: 0.4350 - val_accuracy: 0.8034\n",
      ".Epoch 9/40\n",
      " - 1s - loss: 0.4955 - accuracy: 0.8253 - val_loss: 0.4319 - val_accuracy: 0.8043\n",
      ".Epoch 10/40\n",
      " - 1s - loss: 0.4915 - accuracy: 0.8263 - val_loss: 0.4634 - val_accuracy: 0.7877\n",
      ".Epoch 11/40\n",
      " - 1s - loss: 0.4895 - accuracy: 0.8263 - val_loss: 0.4457 - val_accuracy: 0.8016\n",
      "\n",
      ".Epoch 12/40\n",
      " - 1s - loss: 0.4870 - accuracy: 0.8273 - val_loss: 0.4597 - val_accuracy: 0.7983\n",
      ".Epoch 13/40\n",
      " - 1s - loss: 0.4860 - accuracy: 0.8279 - val_loss: 0.4515 - val_accuracy: 0.8052\n",
      ".Epoch 14/40\n",
      " - 1s - loss: 0.4785 - accuracy: 0.8296 - val_loss: 0.4486 - val_accuracy: 0.7980\n",
      ".Epoch 15/40\n",
      " - 1s - loss: 0.4765 - accuracy: 0.8292 - val_loss: 0.4641 - val_accuracy: 0.7983\n",
      ".Epoch 16/40\n",
      " - 1s - loss: 0.4725 - accuracy: 0.8324 - val_loss: 0.4827 - val_accuracy: 0.7879\n",
      ".Epoch 17/40\n",
      " - 1s - loss: 0.4661 - accuracy: 0.8361 - val_loss: 0.4489 - val_accuracy: 0.8041\n",
      ".Epoch 18/40\n",
      " - 1s - loss: 0.4650 - accuracy: 0.8334 - val_loss: 0.4418 - val_accuracy: 0.8061\n",
      ".Epoch 19/40\n",
      " - 1s - loss: 0.4626 - accuracy: 0.8356 - val_loss: 0.4502 - val_accuracy: 0.8092\n",
      ".Epoch 20/40\n",
      " - 1s - loss: 0.4619 - accuracy: 0.8375 - val_loss: 0.5114 - val_accuracy: 0.7787\n",
      ".Epoch 21/40\n",
      " - 1s - loss: 0.4582 - accuracy: 0.8377 - val_loss: 0.4478 - val_accuracy: 0.8056\n",
      "\n",
      ".Epoch 22/40\n",
      " - 1s - loss: 0.4572 - accuracy: 0.8392 - val_loss: 0.4432 - val_accuracy: 0.8087\n",
      ".Epoch 23/40\n",
      " - 1s - loss: 0.4487 - accuracy: 0.8402 - val_loss: 0.4452 - val_accuracy: 0.8079\n",
      ".Epoch 24/40\n",
      " - 1s - loss: 0.4450 - accuracy: 0.8422 - val_loss: 0.4828 - val_accuracy: 0.8032\n",
      ".Epoch 25/40\n",
      " - 1s - loss: 0.4502 - accuracy: 0.8427 - val_loss: 0.4719 - val_accuracy: 0.7949\n",
      ".Epoch 26/40\n",
      " - 1s - loss: 0.4433 - accuracy: 0.8449 - val_loss: 0.4644 - val_accuracy: 0.8114\n",
      ".Epoch 27/40\n",
      " - 1s - loss: 0.4424 - accuracy: 0.8447 - val_loss: 0.4520 - val_accuracy: 0.8119\n",
      ".Epoch 28/40\n",
      " - 1s - loss: 0.4360 - accuracy: 0.8461 - val_loss: 0.4682 - val_accuracy: 0.8039\n",
      ".Epoch 29/40\n",
      " - 1s - loss: 0.4321 - accuracy: 0.8492 - val_loss: 0.4766 - val_accuracy: 0.7965\n",
      ".Epoch 30/40\n",
      " - 1s - loss: 0.4300 - accuracy: 0.8484 - val_loss: 0.4689 - val_accuracy: 0.8027\n",
      ".Epoch 31/40\n",
      " - 1s - loss: 0.4291 - accuracy: 0.8469 - val_loss: 0.4597 - val_accuracy: 0.8105\n",
      "\n",
      ".Epoch 32/40\n",
      " - 1s - loss: 0.4288 - accuracy: 0.8500 - val_loss: 0.4539 - val_accuracy: 0.8136\n",
      ".Epoch 33/40\n",
      " - 1s - loss: 0.4169 - accuracy: 0.8539 - val_loss: 0.4837 - val_accuracy: 0.8052\n",
      ".Epoch 34/40\n",
      " - 1s - loss: 0.4185 - accuracy: 0.8525 - val_loss: 0.4947 - val_accuracy: 0.8027\n",
      ".Epoch 35/40\n",
      " - 1s - loss: 0.4129 - accuracy: 0.8556 - val_loss: 0.4819 - val_accuracy: 0.8062\n",
      ".Epoch 36/40\n",
      " - 1s - loss: 0.4131 - accuracy: 0.8554 - val_loss: 0.4749 - val_accuracy: 0.8053\n",
      ".Epoch 37/40\n",
      " - 1s - loss: 0.4118 - accuracy: 0.8576 - val_loss: 0.5129 - val_accuracy: 0.7941\n",
      ".Epoch 38/40\n",
      " - 1s - loss: 0.4080 - accuracy: 0.8587 - val_loss: 0.4959 - val_accuracy: 0.8103\n",
      ".Epoch 39/40\n",
      " - 1s - loss: 0.4060 - accuracy: 0.8575 - val_loss: 0.4835 - val_accuracy: 0.8078\n",
      ".Epoch 40/40\n",
      " - 1s - loss: 0.3986 - accuracy: 0.8612 - val_loss: 0.4712 - val_accuracy: 0.8092\n",
      "."
     ]
    }
   ],
   "source": [
    "class PrintDot(keras.callbacks.Callback):\n",
    "  def on_epoch_end(self, epoch, logs):\n",
    "    if epoch % 10 == 0: print('')\n",
    "    print('.', end='')\n",
    "\n",
    "b_historycwn = baseline_model.fit(Xnor_train, y_train, validation_data=(Xnor_test,y_test),epochs=40,class_weight={0:1, 1:2}, verbose=2,batch_size=100, callbacks=[PrintDot()])"
   ]
  },
  {
   "cell_type": "code",
   "execution_count": 122,
   "metadata": {},
   "outputs": [
    {
     "data": {
      "text/plain": [
       "array([[3239,  894],\n",
       "       [ 683, 3450]], dtype=int64)"
      ]
     },
     "execution_count": 122,
     "metadata": {},
     "output_type": "execute_result"
    }
   ],
   "source": [
    "from sklearn.metrics import confusion_matrix\n",
    "y_predbcwn = baseline_model.predict(Xnor_test)\n",
    "y_predbcwn = (y_predbcwn > 0.5)\n",
    "cmbcwn = confusion_matrix(y_test, y_predbcwn)\n",
    "cmbcwn"
   ]
  },
  {
   "cell_type": "code",
   "execution_count": 123,
   "metadata": {},
   "outputs": [
    {
     "data": {
      "image/png": "[encoded data removed]",
      "text/plain": [
       "<Figure size 432x288 with 1 Axes>"
      ]
     },
     "metadata": {},
     "output_type": "display_data"
    }
   ],
   "source": [
    "plt.clf()\n",
    "plt.imshow(cmbcwn, interpolation='nearest', cmap=plt.cm.copper)\n",
    "classNames = ['Negative','Positive']\n",
    "plt.title('Fraud or Not Fraud Confusion Matrix- Normalize - Test Data')\n",
    "plt.ylabel('True label')\n",
    "plt.xlabel('Predicted label')\n",
    "tick_marks = np.arange(len(classNames))\n",
    "plt.xticks(tick_marks, classNames, rotation=45)\n",
    "plt.yticks(tick_marks, classNames)\n",
    "s = [['TN','FP'], ['FN', 'TP']]\n",
    "for i in range(2):\n",
    "    for j in range(2):\n",
    "        plt.text(j,i, str(s[i][j])+\" = \"+str(cmbcwn[i][j]), color = 'white')\n",
    "plt.show()"
   ]
  },
  {
   "cell_type": "code",
   "execution_count": 124,
   "metadata": {},
   "outputs": [
    {
     "data": {
      "image/png": "[encoded data removed]",
      "text/plain": [
       "<Figure size 432x288 with 1 Axes>"
      ]
     },
     "metadata": {},
     "output_type": "display_data"
    }
   ],
   "source": [
    "fprcwn , tprbcwn , thresholds = roc_curve ( y_test , y_predbcwn)\n",
    "plot_roc_curve (fprcwn,tprbcwn) \n"
   ]
  },
  {
   "cell_type": "code",
   "execution_count": 125,
   "metadata": {},
   "outputs": [
    {
     "data": {
      "text/plain": [
       "0.8092184853617227"
      ]
     },
     "execution_count": 125,
     "metadata": {},
     "output_type": "execute_result"
    }
   ],
   "source": [
    "base_weighted_normalize_score=roc_auc_score( y_test , y_predbcwn)\n",
    "base_weighted_normalize_score"
   ]
  },
  {
   "cell_type": "code",
   "execution_count": 126,
   "metadata": {},
   "outputs": [
    {
     "data": {
      "image/png": "[encoded data removed]",
      "text/plain": [
       "<Figure size 432x288 with 1 Axes>"
      ]
     },
     "metadata": {},
     "output_type": "display_data"
    }
   ],
   "source": [
    "auc_score=roc_auc_score( y_test , y_predbcwn)\n",
    "auc_score# summarize history for accuracy\n",
    "plt.plot(b_historycwn.history['accuracy'])\n",
    "plt.plot(b_historycwn.history['val_accuracy'])\n",
    "plt.title('Normalize model accuracy')\n",
    "plt.ylabel('accuracy')\n",
    "plt.xlabel('epoch')\n",
    "plt.legend(['train', 'test'], loc='lower right')\n",
    "plt.show()\n"
   ]
  },
  {
   "cell_type": "markdown",
   "metadata": {},
   "source": [
    "# L1 & L2 Regularization"
   ]
  },
  {
   "cell_type": "markdown",
   "metadata": {},
   "source": [
    "# *L1 Regularization"
   ]
  },
  {
   "cell_type": "code",
   "execution_count": 144,
   "metadata": {},
   "outputs": [
    {
     "name": "stderr",
     "output_type": "stream",
     "text": [
      "C:\\Users\\roger\\anaconda3\\envs\\tensorflow_env\\lib\\site-packages\\ipykernel_launcher.py:2: UserWarning: Update your `Dense` call to the Keras 2 API: `Dense(input_dim=350, use_bias=\"true\", activation=\"relu\", kernel_regularizer=<keras.reg..., units=128, kernel_initializer=\"uniform\")`\n",
      "  \n",
      "C:\\Users\\roger\\anaconda3\\envs\\tensorflow_env\\lib\\site-packages\\ipykernel_launcher.py:3: UserWarning: Update your `Dense` call to the Keras 2 API: `Dense(input_dim=432, use_bias=\"true\", activation=\"relu\", kernel_regularizer=<keras.reg..., units=128, kernel_initializer=\"uniform\")`\n",
      "  This is separate from the ipykernel package so we can avoid doing imports until\n",
      "C:\\Users\\roger\\anaconda3\\envs\\tensorflow_env\\lib\\site-packages\\ipykernel_launcher.py:4: UserWarning: Update your `Dense` call to the Keras 2 API: `Dense(input_dim=432, use_bias=\"true\", activation=\"relu\", kernel_regularizer=<keras.reg..., units=128, kernel_initializer=\"uniform\")`\n",
      "  after removing the cwd from sys.path.\n",
      "C:\\Users\\roger\\anaconda3\\envs\\tensorflow_env\\lib\\site-packages\\ipykernel_launcher.py:5: UserWarning: Update your `Dense` call to the Keras 2 API: `Dense(input_dim=432, use_bias=\"true\", activation=\"relu\", kernel_regularizer=<keras.reg..., units=128, kernel_initializer=\"uniform\")`\n",
      "  \"\"\"\n",
      "C:\\Users\\roger\\anaconda3\\envs\\tensorflow_env\\lib\\site-packages\\ipykernel_launcher.py:6: UserWarning: Update your `Dense` call to the Keras 2 API: `Dense(input_dim=432, use_bias=\"true\", activation=\"relu\", kernel_regularizer=<keras.reg..., units=128, kernel_initializer=\"uniform\")`\n",
      "  \n",
      "C:\\Users\\roger\\anaconda3\\envs\\tensorflow_env\\lib\\site-packages\\ipykernel_launcher.py:7: UserWarning: Update your `Dense` call to the Keras 2 API: `Dense(input_dim=432, use_bias=\"true\", activation=\"sigmoid\", units=1, kernel_initializer=\"uniform\")`\n",
      "  import sys\n"
     ]
    }
   ],
   "source": [
    "l1_model = keras.Sequential([\n",
    "    Dense(output_dim = 128,  input_dim=350,init = 'uniform',use_bias = 'true',  activation = 'relu',kernel_regularizer=regularizers.l1(0.01)), \n",
    "    Dense(output_dim = 128,  input_dim=432,init = 'uniform',use_bias = 'true',  activation = 'relu',kernel_regularizer=regularizers.l1(0.01)), \n",
    "    Dense(output_dim = 128,  input_dim=432,init = 'uniform',use_bias = 'true',  activation = 'relu',kernel_regularizer=regularizers.l1(0.01)), \n",
    "    Dense(output_dim = 128,  input_dim=432,init = 'uniform',use_bias = 'true',  activation = 'relu',kernel_regularizer=regularizers.l1(0.01)), \n",
    "    Dense(output_dim = 128,  input_dim=432,init = 'uniform',use_bias = 'true',  activation = 'relu',kernel_regularizer=regularizers.l1(0.01)), \n",
    "    Dense(output_dim = 1,  input_dim=432,init = 'uniform',use_bias = 'true',   activation = 'sigmoid'),\n",
    "      ])\n",
    "\n",
    "l1_model.compile(loss='binary_crossentropy',\n",
    "                optimizer=optimizers.RMSprop(0.002),\n",
    "                metrics=['accuracy'])\n",
    " "
   ]
  },
  {
   "cell_type": "code",
   "execution_count": 145,
   "metadata": {},
   "outputs": [
    {
     "name": "stdout",
     "output_type": "stream",
     "text": [
      "Train on 33060 samples, validate on 8266 samples\n",
      "Epoch 1/30\n",
      " - 1s - loss: 2.3388 - accuracy: 0.5001 - val_loss: 1.7352 - val_accuracy: 0.5000\n",
      "\n",
      ".Epoch 2/30\n",
      " - 1s - loss: 1.9153 - accuracy: 0.5000 - val_loss: 1.6758 - val_accuracy: 0.5000\n",
      ".Epoch 3/30\n",
      " - 1s - loss: 1.9165 - accuracy: 0.5000 - val_loss: 1.7388 - val_accuracy: 0.5000\n",
      ".Epoch 4/30\n",
      " - 1s - loss: 1.9173 - accuracy: 0.5000 - val_loss: 1.7088 - val_accuracy: 0.5000\n",
      ".Epoch 5/30\n",
      " - 1s - loss: 1.9168 - accuracy: 0.5000 - val_loss: 1.7306 - val_accuracy: 0.5000\n",
      ".Epoch 6/30\n",
      " - 1s - loss: 1.9101 - accuracy: 0.5000 - val_loss: 1.5893 - val_accuracy: 0.5000\n",
      ".Epoch 7/30\n",
      " - 1s - loss: 1.7481 - accuracy: 0.5000 - val_loss: 1.5676 - val_accuracy: 0.5000\n",
      ".Epoch 8/30\n",
      " - 1s - loss: 1.7433 - accuracy: 0.5000 - val_loss: 1.5114 - val_accuracy: 0.5000\n",
      ".Epoch 9/30\n",
      " - 1s - loss: 1.7434 - accuracy: 0.5000 - val_loss: 1.5601 - val_accuracy: 0.5000\n",
      ".Epoch 10/30\n",
      " - 1s - loss: 1.7435 - accuracy: 0.5000 - val_loss: 1.5268 - val_accuracy: 0.5000\n",
      ".Epoch 11/30\n",
      " - 1s - loss: 1.7434 - accuracy: 0.5000 - val_loss: 1.5504 - val_accuracy: 0.5000\n",
      "\n",
      ".Epoch 12/30\n",
      " - 1s - loss: 1.7435 - accuracy: 0.5000 - val_loss: 1.5281 - val_accuracy: 0.5000\n",
      ".Epoch 13/30\n",
      " - 1s - loss: 1.7432 - accuracy: 0.5000 - val_loss: 1.5537 - val_accuracy: 0.5000\n",
      ".Epoch 14/30\n",
      " - 1s - loss: 1.7433 - accuracy: 0.5000 - val_loss: 1.5197 - val_accuracy: 0.5000\n",
      ".Epoch 15/30\n",
      " - 1s - loss: 1.7432 - accuracy: 0.5000 - val_loss: 1.5431 - val_accuracy: 0.5000\n",
      ".Epoch 16/30\n",
      " - 1s - loss: 1.7433 - accuracy: 0.5000 - val_loss: 1.5144 - val_accuracy: 0.5000\n",
      ".Epoch 17/30\n",
      " - 1s - loss: 1.7432 - accuracy: 0.5000 - val_loss: 1.5553 - val_accuracy: 0.5000\n",
      ".Epoch 18/30\n",
      " - 1s - loss: 1.7434 - accuracy: 0.5000 - val_loss: 1.5296 - val_accuracy: 0.5000\n",
      ".Epoch 19/30\n",
      " - 1s - loss: 1.7435 - accuracy: 0.5000 - val_loss: 1.5611 - val_accuracy: 0.5000\n",
      ".Epoch 20/30\n",
      " - 1s - loss: 1.7433 - accuracy: 0.5000 - val_loss: 1.5145 - val_accuracy: 0.5000\n",
      ".Epoch 21/30\n",
      " - 1s - loss: 1.7434 - accuracy: 0.5000 - val_loss: 1.5609 - val_accuracy: 0.5000\n",
      "\n",
      ".Epoch 22/30\n",
      " - 1s - loss: 1.7433 - accuracy: 0.5000 - val_loss: 1.5180 - val_accuracy: 0.5000\n",
      ".Epoch 23/30\n",
      " - 1s - loss: 1.7434 - accuracy: 0.5000 - val_loss: 1.5551 - val_accuracy: 0.5000\n",
      ".Epoch 24/30\n",
      " - 1s - loss: 1.7432 - accuracy: 0.5000 - val_loss: 1.5166 - val_accuracy: 0.5000\n",
      ".Epoch 25/30\n",
      " - 1s - loss: 1.7433 - accuracy: 0.5000 - val_loss: 1.5573 - val_accuracy: 0.5000\n",
      ".Epoch 26/30\n",
      " - 1s - loss: 1.7435 - accuracy: 0.5000 - val_loss: 1.5371 - val_accuracy: 0.5000\n",
      ".Epoch 27/30\n",
      " - 1s - loss: 1.7432 - accuracy: 0.5000 - val_loss: 1.5541 - val_accuracy: 0.5000\n",
      ".Epoch 28/30\n",
      " - 1s - loss: 1.7433 - accuracy: 0.5000 - val_loss: 1.5192 - val_accuracy: 0.5000\n",
      ".Epoch 29/30\n",
      " - 1s - loss: 1.7430 - accuracy: 0.5000 - val_loss: 1.5607 - val_accuracy: 0.5000\n",
      ".Epoch 30/30\n",
      " - 1s - loss: 1.7432 - accuracy: 0.5000 - val_loss: 1.5203 - val_accuracy: 0.5000\n",
      "."
     ]
    }
   ],
   "source": [
    "class PrintDot(keras.callbacks.Callback):\n",
    "  def on_epoch_end(self, epoch, logs):\n",
    "    if epoch % 10 == 0: print('')\n",
    "    print('.', end='')\n",
    "\n",
    "l1cwn = l1_model.fit(Xnor_train, y_train, validation_data=(Xnor_test,y_test),epochs=30,class_weight={0:1, 1:2},batch_size = 100, verbose=2, callbacks=[PrintDot()])"
   ]
  },
  {
   "cell_type": "code",
   "execution_count": 146,
   "metadata": {},
   "outputs": [
    {
     "data": {
      "text/plain": [
       "array([[   0, 4133],\n",
       "       [   0, 4133]], dtype=int64)"
      ]
     },
     "execution_count": 146,
     "metadata": {},
     "output_type": "execute_result"
    }
   ],
   "source": [
    "from sklearn.metrics import confusion_matrix\n",
    "y_predl1 = l1_model.predict(Xnor_test)\n",
    "y_predl1 = (y_predl1 > 0.5)\n",
    "cml1 = confusion_matrix(y_test, y_predl1)\n",
    "cml1"
   ]
  },
  {
   "cell_type": "code",
   "execution_count": 147,
   "metadata": {},
   "outputs": [
    {
     "data": {
      "image/png": "[encoded data removed]",
      "text/plain": [
       "<Figure size 432x288 with 1 Axes>"
      ]
     },
     "metadata": {},
     "output_type": "display_data"
    }
   ],
   "source": [
    "plt.clf()\n",
    "plt.imshow(cml1, interpolation='nearest', cmap=plt.cm.copper)\n",
    "classNames = ['Negative','Positive']\n",
    "plt.title('Fraud or Not Fraud Confusion Matrix -L1 - Test Data')\n",
    "plt.ylabel('True label')\n",
    "plt.xlabel('Predicted label')\n",
    "tick_marks = np.arange(len(classNames))\n",
    "plt.xticks(tick_marks, classNames, rotation=45)\n",
    "plt.yticks(tick_marks, classNames)\n",
    "s = [['TN','FP'], ['FN', 'TP']]\n",
    "for i in range(2):\n",
    "    for j in range(2):\n",
    "        plt.text(j,i, str(s[i][j])+\" = \"+str(cml1[i][j]), color = 'white')\n",
    "plt.show()"
   ]
  },
  {
   "cell_type": "code",
   "execution_count": 148,
   "metadata": {},
   "outputs": [
    {
     "data": {
      "text/plain": [
       "0.5"
      ]
     },
     "execution_count": 148,
     "metadata": {},
     "output_type": "execute_result"
    }
   ],
   "source": [
    "auc_scorel1=roc_auc_score( y_test, y_predl1)\n",
    "auc_scorel1"
   ]
  },
  {
   "cell_type": "markdown",
   "metadata": {},
   "source": [
    "# *L2 Regularization"
   ]
  },
  {
   "cell_type": "code",
   "execution_count": 77,
   "metadata": {},
   "outputs": [
    {
     "name": "stderr",
     "output_type": "stream",
     "text": [
      "C:\\Users\\roger\\anaconda3\\envs\\tensorflow_env\\lib\\site-packages\\ipykernel_launcher.py:2: UserWarning: Update your `Dense` call to the Keras 2 API: `Dense(input_dim=350, use_bias=\"true\", activation=\"relu\", kernel_regularizer=<keras.reg..., units=128, kernel_initializer=\"uniform\")`\n",
      "  \n",
      "C:\\Users\\roger\\anaconda3\\envs\\tensorflow_env\\lib\\site-packages\\ipykernel_launcher.py:3: UserWarning: Update your `Dense` call to the Keras 2 API: `Dense(input_dim=432, use_bias=\"true\", activation=\"relu\", kernel_regularizer=<keras.reg..., units=128, kernel_initializer=\"uniform\")`\n",
      "  This is separate from the ipykernel package so we can avoid doing imports until\n",
      "C:\\Users\\roger\\anaconda3\\envs\\tensorflow_env\\lib\\site-packages\\ipykernel_launcher.py:4: UserWarning: Update your `Dense` call to the Keras 2 API: `Dense(input_dim=432, use_bias=\"true\", activation=\"relu\", kernel_regularizer=<keras.reg..., units=128, kernel_initializer=\"uniform\")`\n",
      "  after removing the cwd from sys.path.\n",
      "C:\\Users\\roger\\anaconda3\\envs\\tensorflow_env\\lib\\site-packages\\ipykernel_launcher.py:5: UserWarning: Update your `Dense` call to the Keras 2 API: `Dense(input_dim=432, use_bias=\"true\", activation=\"relu\", kernel_regularizer=<keras.reg..., units=128, kernel_initializer=\"uniform\")`\n",
      "  \"\"\"\n",
      "C:\\Users\\roger\\anaconda3\\envs\\tensorflow_env\\lib\\site-packages\\ipykernel_launcher.py:6: UserWarning: Update your `Dense` call to the Keras 2 API: `Dense(input_dim=432, use_bias=\"true\", activation=\"relu\", kernel_regularizer=<keras.reg..., units=128, kernel_initializer=\"uniform\")`\n",
      "  \n",
      "C:\\Users\\roger\\anaconda3\\envs\\tensorflow_env\\lib\\site-packages\\ipykernel_launcher.py:7: UserWarning: Update your `Dense` call to the Keras 2 API: `Dense(input_dim=432, use_bias=\"true\", activation=\"sigmoid\", units=1, kernel_initializer=\"uniform\")`\n",
      "  import sys\n"
     ]
    }
   ],
   "source": [
    "l2_model = keras.Sequential([\n",
    "    Dense(output_dim = 128,  input_dim=350,init = 'uniform',use_bias = 'true',  activation = 'relu',kernel_regularizer=regularizers.l2(0.01)), \n",
    "    Dense(output_dim = 128,  input_dim=432,init = 'uniform',use_bias = 'true',  activation = 'relu',kernel_regularizer=regularizers.l2(0.01)),\n",
    "    Dense(output_dim = 128,  input_dim=432,init = 'uniform',use_bias = 'true',  activation = 'relu',kernel_regularizer=regularizers.l2(0.01)),\n",
    "    Dense(output_dim = 128,  input_dim=432,init = 'uniform',use_bias = 'true',  activation = 'relu',kernel_regularizer=regularizers.l2(0.01)),\n",
    "    Dense(output_dim = 128,  input_dim=432,init = 'uniform',use_bias = 'true',  activation = 'relu',kernel_regularizer=regularizers.l2(0.01)), \n",
    "    Dense(output_dim = 1,  input_dim=432,init = 'uniform',use_bias = 'true',   activation = 'sigmoid'),\n",
    "      ])\n",
    "\n",
    "l2_model.compile(loss='binary_crossentropy',\n",
    "                optimizer='adam',\n",
    "                metrics=['accuracy'])"
   ]
  },
  {
   "cell_type": "code",
   "execution_count": 78,
   "metadata": {},
   "outputs": [
    {
     "name": "stdout",
     "output_type": "stream",
     "text": [
      "Train on 33060 samples, validate on 8266 samples\n",
      "Epoch 1/30\n",
      " - 1s - loss: 0.9365 - accuracy: 0.5460 - val_loss: 0.6989 - val_accuracy: 0.7227\n",
      "\n",
      ".Epoch 2/30\n",
      " - 1s - loss: 0.8397 - accuracy: 0.6687 - val_loss: 0.6768 - val_accuracy: 0.7173\n",
      ".Epoch 3/30\n",
      " - 1s - loss: 0.8212 - accuracy: 0.6892 - val_loss: 0.6217 - val_accuracy: 0.7406\n",
      ".Epoch 4/30\n",
      " - 1s - loss: 0.8075 - accuracy: 0.6962 - val_loss: 0.6727 - val_accuracy: 0.6797\n",
      ".Epoch 5/30\n",
      " - 1s - loss: 0.7986 - accuracy: 0.7057 - val_loss: 0.6341 - val_accuracy: 0.7282\n",
      ".Epoch 6/30\n",
      " - 1s - loss: 0.7881 - accuracy: 0.7116 - val_loss: 0.6256 - val_accuracy: 0.7348\n",
      ".Epoch 7/30\n",
      " - 1s - loss: 0.7795 - accuracy: 0.7172 - val_loss: 0.5931 - val_accuracy: 0.7394\n",
      ".Epoch 8/30\n",
      " - 1s - loss: 0.7736 - accuracy: 0.7216 - val_loss: 0.6255 - val_accuracy: 0.7290\n",
      ".Epoch 9/30\n",
      " - 1s - loss: 0.7716 - accuracy: 0.7204 - val_loss: 0.5953 - val_accuracy: 0.7378\n",
      ".Epoch 10/30\n",
      " - 1s - loss: 0.7632 - accuracy: 0.7240 - val_loss: 0.6196 - val_accuracy: 0.7355\n",
      ".Epoch 11/30\n",
      " - 1s - loss: 0.7625 - accuracy: 0.7258 - val_loss: 0.6070 - val_accuracy: 0.7388\n",
      "\n",
      ".Epoch 12/30\n",
      " - 1s - loss: 0.7600 - accuracy: 0.7273 - val_loss: 0.5658 - val_accuracy: 0.7531\n",
      ".Epoch 13/30\n",
      " - 1s - loss: 0.7538 - accuracy: 0.7299 - val_loss: 0.5599 - val_accuracy: 0.7578\n",
      ".Epoch 14/30\n",
      " - 1s - loss: 0.7565 - accuracy: 0.7252 - val_loss: 0.5937 - val_accuracy: 0.7328\n",
      ".Epoch 15/30\n",
      " - 1s - loss: 0.7525 - accuracy: 0.7272 - val_loss: 0.6307 - val_accuracy: 0.6959\n",
      ".Epoch 16/30\n",
      " - 1s - loss: 0.7503 - accuracy: 0.7274 - val_loss: 0.5688 - val_accuracy: 0.7469\n",
      ".Epoch 17/30\n",
      " - 1s - loss: 0.7538 - accuracy: 0.7288 - val_loss: 0.5999 - val_accuracy: 0.7159\n",
      ".Epoch 18/30\n",
      " - 1s - loss: 0.7491 - accuracy: 0.7282 - val_loss: 0.5862 - val_accuracy: 0.7308\n",
      ".Epoch 19/30\n",
      " - 1s - loss: 0.7431 - accuracy: 0.7321 - val_loss: 0.5737 - val_accuracy: 0.7376\n",
      ".Epoch 20/30\n",
      " - 1s - loss: 0.7447 - accuracy: 0.7322 - val_loss: 0.5827 - val_accuracy: 0.7366\n",
      ".Epoch 21/30\n",
      " - 1s - loss: 0.7434 - accuracy: 0.7318 - val_loss: 0.5890 - val_accuracy: 0.7297\n",
      "\n",
      ".Epoch 22/30\n",
      " - 1s - loss: 0.7468 - accuracy: 0.7314 - val_loss: 0.5734 - val_accuracy: 0.7518\n",
      ".Epoch 23/30\n",
      " - 1s - loss: 0.7424 - accuracy: 0.7313 - val_loss: 0.5667 - val_accuracy: 0.7487\n",
      ".Epoch 24/30\n",
      " - 1s - loss: 0.7405 - accuracy: 0.7329 - val_loss: 0.6409 - val_accuracy: 0.6853\n",
      ".Epoch 25/30\n",
      " - 1s - loss: 0.7438 - accuracy: 0.7303 - val_loss: 0.6369 - val_accuracy: 0.6827\n",
      ".Epoch 26/30\n",
      " - 1s - loss: 0.7363 - accuracy: 0.7354 - val_loss: 0.5755 - val_accuracy: 0.7474\n",
      ".Epoch 27/30\n",
      " - 1s - loss: 0.7396 - accuracy: 0.7350 - val_loss: 0.5648 - val_accuracy: 0.7433\n",
      ".Epoch 28/30\n",
      " - 1s - loss: 0.7372 - accuracy: 0.7332 - val_loss: 0.5838 - val_accuracy: 0.7393\n",
      ".Epoch 29/30\n",
      " - 1s - loss: 0.7440 - accuracy: 0.7320 - val_loss: 0.6250 - val_accuracy: 0.7090\n",
      ".Epoch 30/30\n",
      " - 1s - loss: 0.7336 - accuracy: 0.7380 - val_loss: 0.5600 - val_accuracy: 0.7480\n",
      "."
     ]
    }
   ],
   "source": [
    "class PrintDot(keras.callbacks.Callback):\n",
    "  def on_epoch_end(self, epoch, logs):\n",
    "    if epoch % 10 == 0: print('')\n",
    "    print('.', end='')\n",
    "\n",
    "l2cwnbs = l2_model.fit(Xnor_train, y_train, validation_data=(Xnor_test,y_test),epochs=30,class_weight={0:1, 1:2},batch_size = 100, verbose=2, callbacks=[PrintDot()])"
   ]
  },
  {
   "cell_type": "code",
   "execution_count": 79,
   "metadata": {},
   "outputs": [
    {
     "data": {
      "text/plain": [
       "array([[2952, 1181],\n",
       "       [ 902, 3231]], dtype=int64)"
      ]
     },
     "execution_count": 79,
     "metadata": {},
     "output_type": "execute_result"
    }
   ],
   "source": [
    "y_predl2cwnbs  = l2_model.predict(Xnor_test)\n",
    "y_predl2cwnbs  = (y_predl2cwnbs > 0.5)\n",
    "cml2cwnbs = confusion_matrix(y_test, y_predl2cwnbs)\n",
    "cml2cwnbs"
   ]
  },
  {
   "cell_type": "code",
   "execution_count": 80,
   "metadata": {},
   "outputs": [
    {
     "data": {
      "text/plain": [
       "0.748003871279942"
      ]
     },
     "execution_count": 80,
     "metadata": {},
     "output_type": "execute_result"
    }
   ],
   "source": [
    "cml2cwnbs_score=roc_auc_score(y_test, y_predl2cwnbs)\n",
    "cml2cwnbs_score"
   ]
  },
  {
   "cell_type": "code",
   "execution_count": 81,
   "metadata": {},
   "outputs": [
    {
     "data": {
      "image/png": "[encoded data removed]",
      "text/plain": [
       "<Figure size 432x288 with 1 Axes>"
      ]
     },
     "metadata": {},
     "output_type": "display_data"
    }
   ],
   "source": [
    "auc_score=roc_auc_score( y_test , y_predl2cwnbs)\n",
    "auc_score# summarize history for accuracy\n",
    "plt.plot(l2cwnbs.history['accuracy'])\n",
    "plt.plot(l2cwnbs.history['val_accuracy'])\n",
    "plt.title('L2 Regulization model accuracy')\n",
    "plt.ylabel('accuracy')\n",
    "plt.xlabel('epoch')\n",
    "plt.legend(['train', 'test'], loc='lower right')\n",
    "plt.show()\n"
   ]
  },
  {
   "cell_type": "code",
   "execution_count": 82,
   "metadata": {},
   "outputs": [
    {
     "data": {
      "image/png": "[encoded data removed]",
      "text/plain": [
       "<Figure size 432x288 with 1 Axes>"
      ]
     },
     "metadata": {},
     "output_type": "display_data"
    }
   ],
   "source": [
    "plt.clf()\n",
    "plt.imshow(cml2cwnbs, interpolation='nearest', cmap=plt.cm.copper)\n",
    "classNames = ['Negative','Positive']\n",
    "plt.title('Fraud or Not Fraud Confusion Matrix - L2 Regelizasion Test Data')\n",
    "plt.ylabel('True label')\n",
    "plt.xlabel('Predicted label')\n",
    "tick_marks = np.arange(len(classNames))\n",
    "plt.xticks(tick_marks, classNames, rotation=45)\n",
    "plt.yticks(tick_marks, classNames)\n",
    "s = [['TN','FP'], ['FN', 'TP']]\n",
    "for i in range(2):\n",
    "    for j in range(2):\n",
    "        plt.text(j,i, str(s[i][j])+\" = \"+str(cml2cwnbs[i][j]), color = 'white')\n",
    "plt.show()"
   ]
  },
  {
   "cell_type": "markdown",
   "metadata": {},
   "source": [
    "# Adding Momentum "
   ]
  },
  {
   "cell_type": "code",
   "execution_count": 83,
   "metadata": {},
   "outputs": [
    {
     "name": "stderr",
     "output_type": "stream",
     "text": [
      "C:\\Users\\roger\\anaconda3\\envs\\tensorflow_env\\lib\\site-packages\\ipykernel_launcher.py:2: UserWarning: Update your `Dense` call to the Keras 2 API: `Dense(activation=\"relu\", input_dim=350, units=128, kernel_initializer=\"uniform\")`\n",
      "  \n",
      "C:\\Users\\roger\\anaconda3\\envs\\tensorflow_env\\lib\\site-packages\\ipykernel_launcher.py:3: UserWarning: Update your `Dense` call to the Keras 2 API: `Dense(activation=\"relu\", units=128, kernel_initializer=\"uniform\")`\n",
      "  This is separate from the ipykernel package so we can avoid doing imports until\n",
      "C:\\Users\\roger\\anaconda3\\envs\\tensorflow_env\\lib\\site-packages\\ipykernel_launcher.py:4: UserWarning: Update your `Dense` call to the Keras 2 API: `Dense(activation=\"relu\", units=128, kernel_initializer=\"uniform\")`\n",
      "  after removing the cwd from sys.path.\n",
      "C:\\Users\\roger\\anaconda3\\envs\\tensorflow_env\\lib\\site-packages\\ipykernel_launcher.py:5: UserWarning: Update your `Dense` call to the Keras 2 API: `Dense(activation=\"relu\", units=128, kernel_initializer=\"uniform\")`\n",
      "  \"\"\"\n",
      "C:\\Users\\roger\\anaconda3\\envs\\tensorflow_env\\lib\\site-packages\\ipykernel_launcher.py:6: UserWarning: Update your `Dense` call to the Keras 2 API: `Dense(activation=\"relu\", units=128, kernel_initializer=\"uniform\")`\n",
      "  \n",
      "C:\\Users\\roger\\anaconda3\\envs\\tensorflow_env\\lib\\site-packages\\ipykernel_launcher.py:7: UserWarning: Update your `Dense` call to the Keras 2 API: `Dense(activation=\"relu\", units=128, kernel_initializer=\"uniform\")`\n",
      "  import sys\n",
      "C:\\Users\\roger\\anaconda3\\envs\\tensorflow_env\\lib\\site-packages\\ipykernel_launcher.py:8: UserWarning: Update your `Dense` call to the Keras 2 API: `Dense(activation=\"sigmoid\", units=1, kernel_initializer=\"uniform\")`\n",
      "  \n"
     ]
    }
   ],
   "source": [
    "baseline_modelsgdmm = keras.Sequential([\n",
    "    keras.layers.Dense(output_dim = 128, init = 'uniform', activation = 'relu', input_dim = 350),\n",
    "    keras.layers.Dense(output_dim = 128, init = 'uniform', activation = 'relu'),\n",
    "    keras.layers.Dense(output_dim = 128, init = 'uniform', activation = 'relu'),\n",
    "    keras.layers.Dense(output_dim = 128, init = 'uniform', activation = 'relu'),    \n",
    "    keras.layers.Dense(output_dim = 128, init = 'uniform', activation = 'relu'),    \n",
    "    keras.layers.Dense(output_dim = 128, init = 'uniform', activation = 'relu'),        \n",
    "    keras.layers.Dense(output_dim = 1, init = 'uniform', activation = 'sigmoid')\n",
    "  ])\n",
    "\n",
    "baseline_modelsgdmm.compile(loss='binary_crossentropy',\n",
    "                optimizer=keras.optimizers.SGD(lr=0.01, nesterov=True,momentum=0.9),\n",
    "                metrics=['accuracy'])"
   ]
  },
  {
   "cell_type": "code",
   "execution_count": 84,
   "metadata": {},
   "outputs": [
    {
     "name": "stdout",
     "output_type": "stream",
     "text": [
      "Train on 33060 samples, validate on 8266 samples\n",
      "Epoch 1/30\n",
      " - 1s - loss: 0.9594 - accuracy: 0.5002 - val_loss: 0.7522 - val_accuracy: 0.5000\n",
      "\n",
      ".Epoch 2/30\n",
      " - 1s - loss: 0.9547 - accuracy: 0.5000 - val_loss: 0.7531 - val_accuracy: 0.5000\n",
      ".Epoch 3/30\n",
      " - 1s - loss: 0.9544 - accuracy: 0.5000 - val_loss: 0.7520 - val_accuracy: 0.5000\n",
      ".Epoch 4/30\n",
      " - 1s - loss: 0.9501 - accuracy: 0.5000 - val_loss: 0.7271 - val_accuracy: 0.5000\n",
      ".Epoch 5/30\n",
      " - 1s - loss: 0.8386 - accuracy: 0.5654 - val_loss: 0.5700 - val_accuracy: 0.7314\n",
      ".Epoch 6/30\n",
      " - 1s - loss: 0.7379 - accuracy: 0.7085 - val_loss: 0.5480 - val_accuracy: 0.7241\n",
      ".Epoch 7/30\n",
      " - 1s - loss: 0.7088 - accuracy: 0.7242 - val_loss: 0.5107 - val_accuracy: 0.7516\n",
      ".Epoch 8/30\n",
      " - 1s - loss: 0.6912 - accuracy: 0.7363 - val_loss: 0.5555 - val_accuracy: 0.7331\n",
      ".Epoch 9/30\n",
      " - 1s - loss: 0.6813 - accuracy: 0.7427 - val_loss: 0.5763 - val_accuracy: 0.6942\n",
      ".Epoch 10/30\n",
      " - 1s - loss: 0.6723 - accuracy: 0.7457 - val_loss: 0.5407 - val_accuracy: 0.7302\n",
      ".Epoch 11/30\n",
      " - 1s - loss: 0.6619 - accuracy: 0.7538 - val_loss: 0.5308 - val_accuracy: 0.7306\n",
      "\n",
      ".Epoch 12/30\n",
      " - 1s - loss: 0.6538 - accuracy: 0.7592 - val_loss: 0.4951 - val_accuracy: 0.7545\n",
      ".Epoch 13/30\n",
      " - 1s - loss: 0.6491 - accuracy: 0.7598 - val_loss: 0.4572 - val_accuracy: 0.7853\n",
      ".Epoch 14/30\n",
      " - 1s - loss: 0.6426 - accuracy: 0.7610 - val_loss: 0.5037 - val_accuracy: 0.7601\n",
      ".Epoch 15/30\n",
      " - 1s - loss: 0.6388 - accuracy: 0.7647 - val_loss: 0.4837 - val_accuracy: 0.7691\n",
      ".Epoch 16/30\n",
      " - 1s - loss: 0.6331 - accuracy: 0.7672 - val_loss: 0.4686 - val_accuracy: 0.7782\n",
      ".Epoch 17/30\n",
      " - 1s - loss: 0.6292 - accuracy: 0.7696 - val_loss: 0.5141 - val_accuracy: 0.7478\n",
      ".Epoch 18/30\n",
      " - 1s - loss: 0.6249 - accuracy: 0.7713 - val_loss: 0.4772 - val_accuracy: 0.7626\n",
      ".Epoch 19/30\n",
      " - 1s - loss: 0.6213 - accuracy: 0.7720 - val_loss: 0.4646 - val_accuracy: 0.7752\n",
      ".Epoch 20/30\n",
      " - 1s - loss: 0.6168 - accuracy: 0.7732 - val_loss: 0.5012 - val_accuracy: 0.7556\n",
      ".Epoch 21/30\n",
      " - 1s - loss: 0.6138 - accuracy: 0.7783 - val_loss: 0.4863 - val_accuracy: 0.7697\n",
      "\n",
      ".Epoch 22/30\n",
      " - 1s - loss: 0.6099 - accuracy: 0.7763 - val_loss: 0.5289 - val_accuracy: 0.7393\n",
      ".Epoch 23/30\n",
      " - 1s - loss: 0.6053 - accuracy: 0.7797 - val_loss: 0.4519 - val_accuracy: 0.7843\n",
      ".Epoch 24/30\n",
      " - 1s - loss: 0.6005 - accuracy: 0.7802 - val_loss: 0.4429 - val_accuracy: 0.7919\n",
      ".Epoch 25/30\n",
      " - 1s - loss: 0.5964 - accuracy: 0.7838 - val_loss: 0.5662 - val_accuracy: 0.7072\n",
      ".Epoch 26/30\n",
      " - 1s - loss: 0.5966 - accuracy: 0.7836 - val_loss: 0.4400 - val_accuracy: 0.7890\n",
      ".Epoch 27/30\n",
      " - 1s - loss: 0.5920 - accuracy: 0.7847 - val_loss: 0.4434 - val_accuracy: 0.7907\n",
      ".Epoch 28/30\n",
      " - 1s - loss: 0.5893 - accuracy: 0.7865 - val_loss: 0.4703 - val_accuracy: 0.7745\n",
      ".Epoch 29/30\n",
      " - 1s - loss: 0.5836 - accuracy: 0.7891 - val_loss: 0.4607 - val_accuracy: 0.7772\n",
      ".Epoch 30/30\n",
      " - 1s - loss: 0.5818 - accuracy: 0.7899 - val_loss: 0.4736 - val_accuracy: 0.7652\n",
      "."
     ]
    }
   ],
   "source": [
    "class PrintDot(keras.callbacks.Callback):\n",
    "  def on_epoch_end(self, epoch, logs):\n",
    "    if epoch % 10 == 0: print('')\n",
    "    print('.', end='')\n",
    "\n",
    "baselinesgdmm = baseline_modelsgdmm.fit(Xnor_train, y_train, validation_data=(Xnor_test,y_test),epochs=30,class_weight={0:1, 1:2},batch_size = 100, verbose=2, callbacks=[PrintDot()])"
   ]
  },
  {
   "cell_type": "code",
   "execution_count": 85,
   "metadata": {},
   "outputs": [
    {
     "data": {
      "text/plain": [
       "array([[2622, 1511],\n",
       "       [ 430, 3703]], dtype=int64)"
      ]
     },
     "execution_count": 85,
     "metadata": {},
     "output_type": "execute_result"
    }
   ],
   "source": [
    "y_predbaselinesgdmm  = baseline_modelsgdmm.predict(Xnor_test)\n",
    "y_predbaselinesgdmm  = (y_predbaselinesgdmm > 0.5)\n",
    "cmbaselinesgdmm  = confusion_matrix(y_test, y_predbaselinesgdmm)\n",
    "cmbaselinesgdmm "
   ]
  },
  {
   "cell_type": "code",
   "execution_count": 86,
   "metadata": {},
   "outputs": [
    {
     "data": {
      "text/plain": [
       "0.7651826760222599"
      ]
     },
     "execution_count": 86,
     "metadata": {},
     "output_type": "execute_result"
    }
   ],
   "source": [
    "sgdmm_score=roc_auc_score( y_test, y_predbaselinesgdmm)\n",
    "sgdmm_score"
   ]
  },
  {
   "cell_type": "code",
   "execution_count": 87,
   "metadata": {},
   "outputs": [
    {
     "data": {
      "image/png": "[encoded data removed]",
      "text/plain": [
       "<Figure size 432x288 with 1 Axes>"
      ]
     },
     "metadata": {},
     "output_type": "display_data"
    }
   ],
   "source": [
    "auc_score=roc_auc_score( y_test , y_predbaselinesgdmm)\n",
    "auc_score# summarize history for accuracy\n",
    "plt.plot(baselinesgdmm.history['accuracy'])\n",
    "plt.plot(baselinesgdmm.history['val_accuracy'])\n",
    "plt.title('Model with momentum accuracy')\n",
    "plt.ylabel('accuracy')\n",
    "plt.xlabel('epoch')\n",
    "plt.legend(['train', 'test'], loc='lower right')\n",
    "plt.show()\n"
   ]
  },
  {
   "cell_type": "code",
   "execution_count": 88,
   "metadata": {},
   "outputs": [
    {
     "data": {
      "image/png": "[encoded data removed]",
      "text/plain": [
       "<Figure size 432x288 with 1 Axes>"
      ]
     },
     "metadata": {},
     "output_type": "display_data"
    }
   ],
   "source": [
    "plt.clf()\n",
    "plt.imshow(cmbaselinesgdmm, interpolation='nearest', cmap=plt.cm.copper)\n",
    "classNames = ['Negative','Positive']\n",
    "plt.title('Fraud or Not Fraud Confusion Matrix - Momentum- Test Data')\n",
    "plt.ylabel('True label')\n",
    "plt.xlabel('Predicted label')\n",
    "tick_marks = np.arange(len(classNames))\n",
    "plt.xticks(tick_marks, classNames, rotation=45)\n",
    "plt.yticks(tick_marks, classNames)\n",
    "s = [['TN','FP'], ['FN', 'TP']]\n",
    "for i in range(2):\n",
    "    for j in range(2):\n",
    "        plt.text(j,i, str(s[i][j])+\" = \"+str(cmbaselinesgdmm[i][j]), color = 'white')\n",
    "plt.show()"
   ]
  },
  {
   "cell_type": "markdown",
   "metadata": {},
   "source": [
    "# Comparisons"
   ]
  },
  {
   "cell_type": "code",
   "execution_count": 149,
   "metadata": {},
   "outputs": [],
   "source": [
    "from collections import OrderedDict"
   ]
  },
  {
   "cell_type": "code",
   "execution_count": 150,
   "metadata": {},
   "outputs": [
    {
     "data": {
      "text/html": [
       "<style  type=\"text/css\" >\n",
       "</style><table id=\"T_1aaa2d00_8dd4_11ea_837b_34f39acb20bd\" ><thead>    <tr>        <th class=\"blank level0\" ></th>        <th class=\"col_heading level0 col0\" >Logistic regression</th>        <th class=\"col_heading level0 col1\" >Baseline accuracy</th>        <th class=\"col_heading level0 col2\" >Baseline_weighted accuracy</th>        <th class=\"col_heading level0 col3\" >Baseline_weighted_normalize accuracy</th>        <th class=\"col_heading level0 col4\" >L1 model</th>        <th class=\"col_heading level0 col5\" >L2 model</th>        <th class=\"col_heading level0 col6\" >Momentum added model</th>    </tr></thead><tbody>\n",
       "                <tr>\n",
       "                        <th id=\"T_1aaa2d00_8dd4_11ea_837b_34f39acb20bdlevel0_row0\" class=\"row_heading level0 row0\" >0</th>\n",
       "                        <td id=\"T_1aaa2d00_8dd4_11ea_837b_34f39acb20bdrow0_col0\" class=\"data row0 col0\" >0.6874</td>\n",
       "                        <td id=\"T_1aaa2d00_8dd4_11ea_837b_34f39acb20bdrow0_col1\" class=\"data row0 col1\" >0.7219</td>\n",
       "                        <td id=\"T_1aaa2d00_8dd4_11ea_837b_34f39acb20bdrow0_col2\" class=\"data row0 col2\" >0.7296</td>\n",
       "                        <td id=\"T_1aaa2d00_8dd4_11ea_837b_34f39acb20bdrow0_col3\" class=\"data row0 col3\" >0.8092</td>\n",
       "                        <td id=\"T_1aaa2d00_8dd4_11ea_837b_34f39acb20bdrow0_col4\" class=\"data row0 col4\" >0.5000</td>\n",
       "                        <td id=\"T_1aaa2d00_8dd4_11ea_837b_34f39acb20bdrow0_col5\" class=\"data row0 col5\" >0.7480</td>\n",
       "                        <td id=\"T_1aaa2d00_8dd4_11ea_837b_34f39acb20bdrow0_col6\" class=\"data row0 col6\" >0.7652</td>\n",
       "            </tr>\n",
       "    </tbody></table>"
      ],
      "text/plain": [
       "<pandas.io.formats.style.Styler at 0x18a96356248>"
      ]
     },
     "execution_count": 150,
     "metadata": {},
     "output_type": "execute_result"
    }
   ],
   "source": [
    "summary = OrderedDict({'Logistic regression' : logistic_regresion,\n",
    "           'Baseline accuracy' : base_score,\n",
    "           'Baseline_weighted accuracy': base_weighted_score,\n",
    "           'Baseline_weighted_normalize accuracy' : base_weighted_normalize_score,\n",
    "           'L1 model': auc_scorel1,\n",
    "           'L2 model' : cml2cwnbs_score,\n",
    "           'Momentum added model' : sgdmm_score        \n",
    "          })\n",
    "\n",
    "summary_df = pd.DataFrame([summary])\n",
    "summary_df.style.format(\"{:,.4f}\")\n"
   ]
  },
  {
   "cell_type": "markdown",
   "metadata": {},
   "source": [
    "###### Conclution: Neural network baseline with weighted class and normalization provide the best score : 80.92% of accuracy"
   ]
  },
  {
   "cell_type": "code",
   "execution_count": null,
   "metadata": {},
   "outputs": [],
   "source": []
  },
  {
   "cell_type": "code",
   "execution_count": null,
   "metadata": {},
   "outputs": [],
   "source": []
  }
 ],
 "metadata": {
  "kernelspec": {
   "display_name": "Python 3",
   "language": "python",
   "name": "python3"
  },
  "language_info": {
   "codemirror_mode": {
    "name": "ipython",
    "version": 3
   },
   "file_extension": ".py",
   "mimetype": "text/x-python",
   "name": "python",
   "nbconvert_exporter": "python",
   "pygments_lexer": "ipython3",
   "version": "3.7.3"
  }
 },
 "nbformat": 4,
 "nbformat_minor": 2
}
